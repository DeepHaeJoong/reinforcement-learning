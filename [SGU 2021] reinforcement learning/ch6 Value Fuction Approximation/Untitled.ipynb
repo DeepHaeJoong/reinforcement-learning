{
 "cells": [
  {
   "cell_type": "code",
   "execution_count": 71,
   "metadata": {
    "ExecuteTime": {
     "end_time": "2021-05-09T07:06:21.293361Z",
     "start_time": "2021-05-09T07:06:21.286333Z"
    }
   },
   "outputs": [],
   "source": [
    "import numpy as np\n",
    "import matplotlib\n",
    "matplotlib.use('Agg')\n",
    "import matplotlib.pyplot as plt\n",
    "from tqdm import tqdm\n",
    "from mpl_toolkits.mplot3d.axes3d import Axes3D\n",
    "from math import floor"
   ]
  },
  {
   "cell_type": "code",
   "execution_count": 72,
   "metadata": {
    "ExecuteTime": {
     "end_time": "2021-05-09T07:06:21.458954Z",
     "start_time": "2021-05-09T07:06:21.433956Z"
    }
   },
   "outputs": [],
   "source": [
    "basehash = hash\n",
    "\n",
    "class IHT:\n",
    "    \"Structure to handle collisions\"\n",
    "    def __init__(self, sizeval):\n",
    "        self.size = sizeval                        \n",
    "        self.overfullCount = 0\n",
    "        self.dictionary = {}\n",
    "\n",
    "    def __str__(self):\n",
    "        \"Prepares a string for printing whenever this object is printed\"\n",
    "        return \"Collision table:\" + \\\n",
    "               \" size:\" + str(self.size) + \\\n",
    "               \" overfullCount:\" + str(self.overfullCount) + \\\n",
    "               \" dictionary:\" + str(len(self.dictionary)) + \" items\"\n",
    "\n",
    "    def count (self):\n",
    "        return len(self.dictionary)\n",
    "    \n",
    "    def fullp (self):\n",
    "        return len(self.dictionary) >= self.size\n",
    "    \n",
    "    def getindex (self, obj, readonly=False):\n",
    "        d = self.dictionary\n",
    "        if obj in d: return d[obj]\n",
    "        elif readonly: return None\n",
    "        size = self.size\n",
    "        count = self.count()\n",
    "        if count >= size:\n",
    "            if self.overfullCount==0: print('IHT full, starting to allow collisions')\n",
    "            self.overfullCount += 1\n",
    "            return basehash(obj) % self.size\n",
    "        else:\n",
    "            d[obj] = count\n",
    "            return count\n",
    "\n",
    "        \n",
    "def hashcoords(coordinates, m, readonly=False):\n",
    "    if type(m)==IHT: return m.getindex(tuple(coordinates), readonly)\n",
    "    if type(m)==int: return basehash(tuple(coordinates)) % m\n",
    "    if m==None: return coordinates\n",
    "\n",
    "from math import floor, log\n",
    "from itertools import zip_longest\n",
    "\n",
    "\n",
    "def tiles (ihtORsize, numtilings, floats, ints=[], readonly=False):\n",
    "    \"\"\"returns num-tilings tile indices corresponding to the floats and ints\"\"\"\n",
    "    qfloats = [floor(f*numtilings) for f in floats]\n",
    "    Tiles = []\n",
    "    for tiling in range(numtilings):\n",
    "        tilingX2 = tiling*2\n",
    "        coords = [tiling]\n",
    "        b = tiling\n",
    "        for q in qfloats:\n",
    "            coords.append( (q + b) // numtilings )\n",
    "            b += tilingX2\n",
    "        coords.extend(ints)\n",
    "        Tiles.append(hashcoords(coords, ihtORsize, readonly))\n",
    "    return Tiles\n",
    "\n",
    "\n",
    "def tileswrap (ihtORsize, numtilings, floats, wrapwidths, ints=[], readonly=False):\n",
    "    \"\"\"returns num-tilings tile indices corresponding to the floats and ints, wrapping some floats\"\"\"\n",
    "    qfloats = [floor(f*numtilings) for f in floats]\n",
    "    Tiles = []\n",
    "    for tiling in range(numtilings):\n",
    "        tilingX2 = tiling*2\n",
    "        coords = [tiling]\n",
    "        b = tiling\n",
    "        for q, width in zip_longest(qfloats, wrapwidths):\n",
    "            c = (q + b%numtilings) // numtilings\n",
    "            coords.append(c%width if width else c)\n",
    "            b += tilingX2\n",
    "        coords.extend(ints)\n",
    "        Tiles.append(hashcoords(coords, ihtORsize, readonly))\n",
    "    return Tiles"
   ]
  },
  {
   "cell_type": "code",
   "execution_count": 73,
   "metadata": {
    "ExecuteTime": {
     "end_time": "2021-05-09T07:06:21.611022Z",
     "start_time": "2021-05-09T07:06:21.593992Z"
    }
   },
   "outputs": [],
   "source": [
    "# all possible actions\n",
    "ACTION_REVERSE = -1\n",
    "ACTION_ZERO = 0\n",
    "ACTION_FORWARD = 1\n",
    "# order is important\n",
    "ACTIONS = [ACTION_REVERSE, ACTION_ZERO, ACTION_FORWARD]\n",
    "\n",
    "# bound for position and velocity\n",
    "POSITION_MIN = -1.2\n",
    "POSITION_MAX = 0.5\n",
    "VELOCITY_MIN = -0.07\n",
    "VELOCITY_MAX = 0.07\n",
    "\n",
    "# use optimistic initial value, so it's ok to set epsilon to 0\n",
    "EPSILON = 0\n",
    "\n",
    "# take an @action at @position and @velocity\n",
    "# @return: new position, new velocity, reward (always -1)\n",
    "def step(position, velocity, action):\n",
    "    new_velocity = velocity + 0.001 * action - 0.0025 * np.cos(3 * position)\n",
    "    new_velocity = min(max(VELOCITY_MIN, new_velocity), VELOCITY_MAX)\n",
    "    new_position = position + new_velocity\n",
    "    new_position = min(max(POSITION_MIN, new_position), POSITION_MAX)\n",
    "    reward = -1.0\n",
    "    if new_position == POSITION_MIN:\n",
    "        new_velocity = 0.0\n",
    "    return new_position, new_velocity, reward\n",
    "\n",
    "# wrapper class for state action value function\n",
    "class ValueFunction:\n",
    "    # In this example I use the tiling software instead of implementing standard tiling by myself\n",
    "    # One important thing is that tiling is only a map from (state, action) to a series of indices\n",
    "    # It doesn't matter whether the indices have meaning, only if this map satisfy some property\n",
    "    # View the following webpage for more information\n",
    "    # http://incompleteideas.net/sutton/tiles/tiles3.html\n",
    "    # @max_size: the maximum # of indices\n",
    "    def __init__(self, step_size, num_of_tilings=8, max_size=2048):\n",
    "        self.max_size = max_size\n",
    "        self.num_of_tilings = num_of_tilings\n",
    "\n",
    "        # divide step size equally to each tiling\n",
    "        self.step_size = step_size / num_of_tilings\n",
    "\n",
    "        self.hash_table = IHT(max_size)\n",
    "\n",
    "        # weight for each tile\n",
    "        self.weights = np.zeros(max_size)\n",
    "\n",
    "        # position and velocity needs scaling to satisfy the tile software\n",
    "        self.position_scale = self.num_of_tilings / (POSITION_MAX - POSITION_MIN)\n",
    "        self.velocity_scale = self.num_of_tilings / (VELOCITY_MAX - VELOCITY_MIN)\n",
    "\n",
    "    # get indices of active tiles for given state and action\n",
    "    def get_active_tiles(self, position, velocity, action):\n",
    "        # I think positionScale * (position - position_min) would be a good normalization.\n",
    "        # However positionScale * position_min is a constant, so it's ok to ignore it.\n",
    "        active_tiles = tiles(self.hash_table, self.num_of_tilings,\n",
    "                             [self.position_scale * position, self.velocity_scale * velocity],\n",
    "                             [action])\n",
    "        return active_tiles\n",
    "\n",
    "    # estimate the value of given state and action\n",
    "    def value(self, position, velocity, action):\n",
    "        if position == POSITION_MAX:\n",
    "            return 0.0\n",
    "        active_tiles = self.get_active_tiles(position, velocity, action)\n",
    "        return np.sum(self.weights[active_tiles])\n",
    "\n",
    "    # learn with given state, action and target\n",
    "    def learn(self, position, velocity, action, target):\n",
    "        active_tiles = self.get_active_tiles(position, velocity, action)\n",
    "        estimation = np.sum(self.weights[active_tiles])\n",
    "        delta = self.step_size * (target - estimation)\n",
    "        for active_tile in active_tiles:\n",
    "            self.weights[active_tile] += delta\n",
    "\n",
    "    # get # of steps to reach the goal under current state value function\n",
    "    def cost_to_go(self, position, velocity):\n",
    "        costs = []\n",
    "        for action in ACTIONS:\n",
    "            costs.append(self.value(position, velocity, action))\n",
    "        return -np.max(costs)"
   ]
  },
  {
   "cell_type": "code",
   "execution_count": 74,
   "metadata": {
    "ExecuteTime": {
     "end_time": "2021-05-09T07:06:21.762850Z",
     "start_time": "2021-05-09T07:06:21.755851Z"
    }
   },
   "outputs": [],
   "source": [
    "num_of_tilings = 8\n",
    "alpha = 0.3\n",
    "value_function = ValueFunction(step_size=alpha, num_of_tilings=num_of_tilings)"
   ]
  },
  {
   "cell_type": "code",
   "execution_count": 75,
   "metadata": {
    "ExecuteTime": {
     "end_time": "2021-05-09T07:06:21.915579Z",
     "start_time": "2021-05-09T07:06:21.907579Z"
    }
   },
   "outputs": [
    {
     "data": {
      "text/plain": [
       "array([0., 0., 0., ..., 0., 0., 0.])"
      ]
     },
     "execution_count": 75,
     "metadata": {},
     "output_type": "execute_result"
    }
   ],
   "source": [
    "value_function.weights"
   ]
  },
  {
   "cell_type": "code",
   "execution_count": 76,
   "metadata": {
    "ExecuteTime": {
     "end_time": "2021-05-09T07:06:22.083438Z",
     "start_time": "2021-05-09T07:06:22.070414Z"
    },
    "scrolled": true
   },
   "outputs": [
    {
     "data": {
      "text/plain": [
       "<__main__.IHT at 0x219099494e0>"
      ]
     },
     "execution_count": 76,
     "metadata": {},
     "output_type": "execute_result"
    }
   ],
   "source": [
    "value_function.hash_table"
   ]
  },
  {
   "cell_type": "code",
   "execution_count": 77,
   "metadata": {
    "ExecuteTime": {
     "end_time": "2021-05-09T07:06:22.250578Z",
     "start_time": "2021-05-09T07:06:22.229547Z"
    }
   },
   "outputs": [],
   "source": [
    "# semi-gradient n-step Sarsa\n",
    "# @valueFunction: state value function to learn\n",
    "# @n: # of steps\n",
    "def semi_gradient_n_step_sarsa(value_function, n=1):\n",
    "    # start at a random position around the bottom of the valley\n",
    "    current_position = np.random.uniform(-0.6, -0.4)\n",
    "    # initial velocity is 0\n",
    "    current_velocity = 0.0\n",
    "    # get initial action\n",
    "    current_action = get_action(current_position, current_velocity, value_function)\n",
    "\n",
    "    # track previous position, velocity, action and reward\n",
    "    positions = [current_position]\n",
    "    velocities = [current_velocity]\n",
    "    actions = [current_action]\n",
    "    rewards = [0.0]\n",
    "\n",
    "    # track the time\n",
    "    time = 0\n",
    "\n",
    "    # the length of this episode\n",
    "    T = float('inf')\n",
    "    while True:\n",
    "        # go to next time step\n",
    "        time += 1\n",
    "\n",
    "        if time < T:\n",
    "            # take current action and go to the new state\n",
    "            new_postion, new_velocity, reward = step(current_position, current_velocity, current_action)\n",
    "            # choose new action\n",
    "            new_action = get_action(new_postion, new_velocity, value_function)\n",
    "\n",
    "            # track new state and action\n",
    "            positions.append(new_postion)\n",
    "            velocities.append(new_velocity)\n",
    "            actions.append(new_action)\n",
    "            rewards.append(reward)\n",
    "\n",
    "            if new_postion == POSITION_MAX:\n",
    "                T = time\n",
    "\n",
    "        # get the time of the state to update\n",
    "        update_time = time - n\n",
    "        if update_time >= 0:\n",
    "            returns = 0.0\n",
    "            # calculate corresponding rewards\n",
    "            for t in range(update_time + 1, min(T, update_time + n) + 1):\n",
    "                returns += rewards[t]\n",
    "            # add estimated state action value to the return\n",
    "            if update_time + n <= T:\n",
    "                returns += value_function.value(positions[update_time + n],\n",
    "                                                velocities[update_time + n],\n",
    "                                                actions[update_time + n])\n",
    "            # update the state value function\n",
    "            if positions[update_time] != POSITION_MAX:\n",
    "                value_function.learn(positions[update_time], velocities[update_time], actions[update_time], returns)\n",
    "        if update_time == T - 1:\n",
    "            break\n",
    "        current_position = new_postion\n",
    "        current_velocity = new_velocity\n",
    "        current_action = new_action\n",
    "\n",
    "    return time"
   ]
  },
  {
   "cell_type": "code",
   "execution_count": 78,
   "metadata": {
    "ExecuteTime": {
     "end_time": "2021-05-09T07:06:22.400990Z",
     "start_time": "2021-05-09T07:06:22.387164Z"
    }
   },
   "outputs": [],
   "source": [
    "# get action at @position and @velocity based on epsilon greedy policy and @valueFunction\n",
    "def get_action(position, velocity, value_function):\n",
    "    if np.random.binomial(1, EPSILON) == 1:\n",
    "        return np.random.choice(ACTIONS)\n",
    "    values = []\n",
    "    for action in ACTIONS:\n",
    "        values.append(value_function.value(position, velocity, action))\n",
    "    return np.random.choice([action_ for action_, value_ in enumerate(values) if value_ == np.max(values)]) - 1"
   ]
  },
  {
   "cell_type": "code",
   "execution_count": 85,
   "metadata": {
    "ExecuteTime": {
     "end_time": "2021-05-09T07:09:55.945825Z",
     "start_time": "2021-05-09T07:09:55.939794Z"
    }
   },
   "outputs": [],
   "source": [
    "# Figure 10.1, cost to go in a single run\n",
    "def figure_10_1():\n",
    "    episodes = 9000\n",
    "    plot_episodes = [0, 99, episodes - 1]\n",
    "    fig = plt.figure(figsize=(40, 10))\n",
    "    axes = [fig.add_subplot(1, len(plot_episodes), i+1, projection='3d') for i in range(len(plot_episodes))]\n",
    "    num_of_tilings = 8\n",
    "    alpha = 0.3\n",
    "    value_function = ValueFunction(alpha, num_of_tilings)\n",
    "    for ep in tqdm(range(episodes)):\n",
    "        semi_gradient_n_step_sarsa(value_function)\n",
    "        if ep in plot_episodes:\n",
    "            print_cost(value_function, ep, axes[plot_episodes.index(ep)])\n",
    "\n",
    "    plt.savefig('./images/figure_10_1.png')\n",
    "    plt.close()"
   ]
  },
  {
   "cell_type": "code",
   "execution_count": 86,
   "metadata": {
    "ExecuteTime": {
     "end_time": "2021-05-09T07:09:56.126680Z",
     "start_time": "2021-05-09T07:09:56.118657Z"
    }
   },
   "outputs": [],
   "source": [
    "# print learned cost to go\n",
    "def print_cost(value_function, episode, ax):\n",
    "    grid_size = 40\n",
    "    positions = np.linspace(POSITION_MIN, POSITION_MAX, grid_size)\n",
    "    # positionStep = (POSITION_MAX - POSITION_MIN) / grid_size\n",
    "    # positions = np.arange(POSITION_MIN, POSITION_MAX + positionStep, positionStep)\n",
    "    # velocityStep = (VELOCITY_MAX - VELOCITY_MIN) / grid_size\n",
    "    # velocities = np.arange(VELOCITY_MIN, VELOCITY_MAX + velocityStep, velocityStep)\n",
    "    velocities = np.linspace(VELOCITY_MIN, VELOCITY_MAX, grid_size)\n",
    "    axis_x = []\n",
    "    axis_y = []\n",
    "    axis_z = []\n",
    "    for position in positions:\n",
    "        for velocity in velocities:\n",
    "            axis_x.append(position)\n",
    "            axis_y.append(velocity)\n",
    "            axis_z.append(value_function.cost_to_go(position, velocity))\n",
    "\n",
    "    ax.scatter(axis_x, axis_y, axis_z)\n",
    "    ax.set_xlabel('Position')\n",
    "    ax.set_ylabel('Velocity')\n",
    "    ax.set_zlabel('Cost to go')\n",
    "    ax.set_title('Episode %d' % (episode + 1))"
   ]
  },
  {
   "cell_type": "code",
   "execution_count": 87,
   "metadata": {
    "ExecuteTime": {
     "end_time": "2021-05-09T07:12:32.993049Z",
     "start_time": "2021-05-09T07:09:56.287606Z"
    }
   },
   "outputs": [
    {
     "name": "stderr",
     "output_type": "stream",
     "text": [
      "100%|██████████████████████████████████████████████████████████████████████████████| 9000/9000 [02:36<00:00, 57.64it/s]\n"
     ]
    }
   ],
   "source": [
    "figure_10_1()"
   ]
  }
 ],
 "metadata": {
  "hide_input": false,
  "kernelspec": {
   "display_name": "Python 3",
   "language": "python",
   "name": "python3"
  },
  "language_info": {
   "codemirror_mode": {
    "name": "ipython",
    "version": 3
   },
   "file_extension": ".py",
   "mimetype": "text/x-python",
   "name": "python",
   "nbconvert_exporter": "python",
   "pygments_lexer": "ipython3",
   "version": "3.7.1"
  },
  "toc": {
   "base_numbering": 1,
   "nav_menu": {},
   "number_sections": true,
   "sideBar": true,
   "skip_h1_title": false,
   "title_cell": "Table of Contents",
   "title_sidebar": "Contents",
   "toc_cell": false,
   "toc_position": {},
   "toc_section_display": true,
   "toc_window_display": false
  }
 },
 "nbformat": 4,
 "nbformat_minor": 2
}
