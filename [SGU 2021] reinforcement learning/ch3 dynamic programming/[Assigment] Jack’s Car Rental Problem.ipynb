{
 "cells": [
  {
   "cell_type": "markdown",
   "metadata": {},
   "source": [
    "# Problem\n",
    "\n",
    "- states : Two locations (1, 2), maximum of 20 cars of each\n",
    "\n",
    "$$ s_1 \\in [0, 20] $$\n",
    "$$ s_2 \\in [0, 20] $$\n",
    "\n",
    "- Actions : Move up to 5 cars between locations overnight\n",
    "\n",
    "$$ a \\in \\{-5, -4, -3, ..., 0, 1, 2, 3, 4 , 5\\}$$\n",
    "\n",
    "- Reward : `$10` for each car rented (must be available), `-$2` for each car moved \n",
    "\n",
    "$$R_t = 10 \\times (\\text{satisfied_requests}) -2 \\times (\\text{moved})$$\n",
    "\n",
    "- Transitions : Cars returned and requested rondomly\n",
    "    - p(s',r | s, a)\n",
    "\n",
    "$$P_{S_1 S_2}^{return} = \\frac{\\lambda^{n}}{n!}e^{-\\lambda}$$\n",
    "\n",
    "$$P_{S_2 S_1}^{return} = \\frac{\\lambda^{n}}{n!}e^{-\\lambda}$$\n",
    "\n",
    "$$P_{S_1 S_2}^{request} = \\frac{\\lambda^{n}}{n!}e^{-\\lambda}$$\n",
    "\n",
    "$$P_{S_2 S_1}^{request} = \\frac{\\lambda^{n}}{n!}e^{-\\lambda}$$"
   ]
  },
  {
   "cell_type": "code",
   "execution_count": 151,
   "metadata": {
    "ExecuteTime": {
     "end_time": "2021-03-24T15:53:22.893695Z",
     "start_time": "2021-03-24T15:53:22.886696Z"
    }
   },
   "outputs": [
    {
     "data": {
      "text/plain": [
       "array([2, 0, 3, 3, 2, 2, 0, 2, 1, 1, 7, 3, 0, 6, 1, 5, 2, 4, 5, 2, 3, 2,\n",
       "       1, 3, 3, 2, 2, 4, 1, 3, 1, 2, 2, 3, 1, 2, 1, 1, 3, 3, 1, 5, 5, 4,\n",
       "       1, 1, 2, 3, 2, 2])"
      ]
     },
     "execution_count": 151,
     "metadata": {},
     "output_type": "execute_result"
    }
   ],
   "source": [
    "from scipy.stats import poisson\n",
    "import seaborn as sns\n",
    "\n",
    "data_possion = poisson.rvs(mu=3, size=50)\n",
    "data_possion"
   ]
  },
  {
   "cell_type": "code",
   "execution_count": 225,
   "metadata": {
    "ExecuteTime": {
     "end_time": "2021-03-24T16:14:51.951544Z",
     "start_time": "2021-03-24T16:14:51.779046Z"
    }
   },
   "outputs": [
    {
     "data": {
      "text/plain": [
       "[Text(0, 0.5, 'Frequency'), Text(0.5, 0, 'Possion Distribution')]"
      ]
     },
     "execution_count": 225,
     "metadata": {},
     "output_type": "execute_result"
    },
    {
     "data": {
      "image/png": "[encoded data removed]",
      "text/plain": [
       "<Figure size 432x288 with 1 Axes>"
      ]
     },
     "metadata": {
      "needs_background": "light"
     },
     "output_type": "display_data"
    }
   ],
   "source": [
    "ax = sns.distplot(data_possion,\n",
    "                  bins = 50,\n",
    "                  kde = False,\n",
    "                  color = 'blue',\n",
    "                  hist_kws = {'linewidth':1, 'alpha':0.5})\n",
    "ax.set(xlabel='Possion Distribution', ylabel='Frequency')"
   ]
  },
  {
   "cell_type": "markdown",
   "metadata": {},
   "source": [
    "## 1. state, discount rate, reward 을 설정하기 위한 정보 (문제)"
   ]
  },
  {
   "cell_type": "code",
   "execution_count": 324,
   "metadata": {
    "ExecuteTime": {
     "end_time": "2021-03-24T18:13:49.042527Z",
     "start_time": "2021-03-24T18:13:49.029528Z"
    }
   },
   "outputs": [],
   "source": [
    "import numpy as np\n",
    "import sys\n",
    "import matplotlib.pyplot as plt\n",
    "\n",
    "class JacksCarsRental:\n",
    "    \n",
    "    @staticmethod\n",
    "    def max_cars():\n",
    "        return 20\n",
    "    \n",
    "    # discount_rate\n",
    "    @staticmethod    \n",
    "    def discount_rate():\n",
    "        return 0.9\n",
    "    \n",
    "    # reward\n",
    "    @staticmethod    \n",
    "    def credit_reward():\n",
    "        return 10\n",
    "    \n",
    "    @staticmethod\n",
    "    def moving_reward():\n",
    "        return -2"
   ]
  },
  {
   "cell_type": "markdown",
   "metadata": {},
   "source": [
    "## 2. transition probability"
   ]
  },
  {
   "cell_type": "code",
   "execution_count": 325,
   "metadata": {
    "ExecuteTime": {
     "end_time": "2021-03-24T18:13:49.243040Z",
     "start_time": "2021-03-24T18:13:49.225034Z"
    }
   },
   "outputs": [],
   "source": [
    "from scipy.stats import poisson\n",
    "\n",
    "class poisson_:\n",
    "    \n",
    "    def __init__(self, mu):\n",
    "        self.mu = mu\n",
    "        \n",
    "        epsilon = 0.01\n",
    "        \n",
    "        # [alpha , beta] is the range of n's for which the pmf value is above epsilon\n",
    "        self.alpha = 0\n",
    "        self.beta = 0\n",
    "        state = 1\n",
    "        self.vals = {}\n",
    "        summer = 0\n",
    "        \n",
    "        while(1):\n",
    "            if state == 1:\n",
    "                temp = poisson.pmf(self.alpha, self.mu) \n",
    "                if(temp <= epsilon):\n",
    "                    self.alpha += 1\n",
    "                else:\n",
    "                    self.vals[self.alpha] = temp\n",
    "                    summer += temp\n",
    "                    self.beta = self.alpha+1\n",
    "                    state = 2\n",
    "            elif state == 2:\n",
    "                temp = poisson.pmf(self.beta, self.mu)\n",
    "                if(temp > epsilon):\n",
    "                    self.vals[self.beta] = temp\n",
    "                    summer += temp\n",
    "                    self.beta+=1\n",
    "                else:\n",
    "                    break    \n",
    "        \n",
    "        # normalizing the pmf, values of n outside of [alpha, beta] have pmf = 0\n",
    "        added_val = (1-summer)/(self.beta-self.alpha)\n",
    "        for key in self.vals:\n",
    "            self.vals[key] += added_val\n",
    "        \n",
    "            \n",
    "    def f(self, n):\n",
    "        try:\n",
    "            Ret_value = self.vals[n]\n",
    "        except(KeyError):\n",
    "            Ret_value = 0\n",
    "        finally:\n",
    "            return Ret_value"
   ]
  },
  {
   "cell_type": "markdown",
   "metadata": {},
   "source": [
    "### location 및 action에 따른 transition probability 설정"
   ]
  },
  {
   "cell_type": "code",
   "execution_count": 367,
   "metadata": {
    "ExecuteTime": {
     "end_time": "2021-03-25T01:49:11.932899Z",
     "start_time": "2021-03-25T01:49:11.921397Z"
    }
   },
   "outputs": [],
   "source": [
    "# A class holding the properties of a location together\n",
    "# location 및 action에 따른 transition probability 설정\n",
    "class location:\n",
    "    \n",
    "    def __init__(self, requests, returns):\n",
    "        self.alpha = requests                     # value of lambda for requests\n",
    "        self.beta = returns                       # value of lambda for returns\n",
    "        self.poisson_alpha = poisson_(self.alpha)\n",
    "        self.poisson_beta = poisson_(self.beta)\n",
    "\n",
    "# Location 초기화\n",
    "first_location = location(requests=3, returns=3)\n",
    "second_location = location(requests=4, returns=2)"
   ]
  },
  {
   "cell_type": "markdown",
   "metadata": {},
   "source": [
    "## 3. state table, policy table 초기화"
   ]
  },
  {
   "cell_type": "code",
   "execution_count": 327,
   "metadata": {
    "ExecuteTime": {
     "end_time": "2021-03-24T18:13:49.566610Z",
     "start_time": "2021-03-24T18:13:49.552110Z"
    }
   },
   "outputs": [
    {
     "name": "stdout",
     "output_type": "stream",
     "text": [
      "(21, 21)\n",
      "(21, 21)\n"
     ]
    }
   ],
   "source": [
    "# Initializing the value and policy matrices. \n",
    "# Initial policy has zero value for all states.\n",
    "\n",
    "value = np.zeros((JacksCarsRental.max_cars()+1, JacksCarsRental.max_cars()+1))\n",
    "policy = value.copy().astype(int)\n",
    "\n",
    "print(value.shape)\n",
    "print(policy.shape)"
   ]
  },
  {
   "cell_type": "code",
   "execution_count": 328,
   "metadata": {
    "ExecuteTime": {
     "end_time": "2021-03-24T18:13:49.874004Z",
     "start_time": "2021-03-24T18:13:49.859960Z"
    }
   },
   "outputs": [
    {
     "data": {
      "text/plain": [
       "{0: 0.05127513134990861,\n",
       " 1: 0.15084926808563653,\n",
       " 2: 0.2255298706374324,\n",
       " 3: 0.2255298706374324,\n",
       " 4: 0.1695194187235855,\n",
       " 5: 0.10230687642696924,\n",
       " 6: 0.051897469704506906,\n",
       " 7: 0.023092094434528487}"
      ]
     },
     "execution_count": 328,
     "metadata": {},
     "output_type": "execute_result"
    }
   ],
   "source": [
    "first_location.poisson_alpha.vals"
   ]
  },
  {
   "cell_type": "code",
   "execution_count": 329,
   "metadata": {
    "ExecuteTime": {
     "end_time": "2021-03-24T18:13:50.104279Z",
     "start_time": "2021-03-24T18:13:50.090167Z"
    }
   },
   "outputs": [
    {
     "data": {
      "text/plain": [
       "{0: 0.05127513134990861,\n",
       " 1: 0.15084926808563653,\n",
       " 2: 0.2255298706374324,\n",
       " 3: 0.2255298706374324,\n",
       " 4: 0.1695194187235855,\n",
       " 5: 0.10230687642696924,\n",
       " 6: 0.051897469704506906,\n",
       " 7: 0.023092094434528487}"
      ]
     },
     "execution_count": 329,
     "metadata": {},
     "output_type": "execute_result"
    }
   ],
   "source": [
    "first_location.poisson_beta.vals"
   ]
  },
  {
   "cell_type": "code",
   "execution_count": 368,
   "metadata": {
    "ExecuteTime": {
     "end_time": "2021-03-25T01:51:24.951512Z",
     "start_time": "2021-03-25T01:51:24.943041Z"
    }
   },
   "outputs": [
    {
     "name": "stdout",
     "output_type": "stream",
     "text": [
      "0\n",
      "8\n",
      "0\n",
      "8\n"
     ]
    }
   ],
   "source": [
    "print(first_location.poisson_alpha.alpha)\n",
    "print(first_location.poisson_alpha.beta)\n",
    "print(first_location.poisson_beta.alpha)\n",
    "print(first_location.poisson_beta.beta)"
   ]
  },
  {
   "cell_type": "code",
   "execution_count": 369,
   "metadata": {
    "ExecuteTime": {
     "end_time": "2021-03-25T01:51:25.726512Z",
     "start_time": "2021-03-25T01:51:25.721041Z"
    }
   },
   "outputs": [
    {
     "name": "stdout",
     "output_type": "stream",
     "text": [
      "0\n",
      "10\n",
      "0\n",
      "7\n"
     ]
    }
   ],
   "source": [
    "print(second_location.poisson_alpha.alpha)\n",
    "print(second_location.poisson_alpha.beta)\n",
    "print(second_location.poisson_beta.alpha)\n",
    "print(second_location.poisson_beta.beta)"
   ]
  },
  {
   "cell_type": "markdown",
   "metadata": {},
   "source": [
    "## 4. Policy iteration "
   ]
  },
  {
   "cell_type": "markdown",
   "metadata": {},
   "source": [
    "<img src=\"https://miro.medium.com/max/1094/1*ZYq8bX-q4Z8-8aPndQaz9w.png\">"
   ]
  },
  {
   "cell_type": "markdown",
   "metadata": {},
   "source": [
    "### Policy evaluation\n",
    "\n",
    "#### Expected reward "
   ]
  },
  {
   "cell_type": "code",
   "execution_count": 332,
   "metadata": {
    "ExecuteTime": {
     "end_time": "2021-03-24T18:13:51.597482Z",
     "start_time": "2021-03-24T18:13:51.581482Z"
    }
   },
   "outputs": [],
   "source": [
    "def expected_reward(state, action):\n",
    "    global value\n",
    "    \"\"\"\n",
    "    state  : It's a pair of integers, # of cars at A and at B\n",
    "    action : # of cars transferred from A to B,  -5 <= action <= 5 \n",
    "    \"\"\"\n",
    "    \n",
    "    # expected_reward 초기화\n",
    "    expected_reward = 0\n",
    "    \n",
    "    new_state = [max(min(state[0] - action, JacksCarsRental.max_cars()),0) , \n",
    "                 max(min(state[1] + action, JacksCarsRental.max_cars()),0)]\n",
    "    \n",
    "    # adding reward for moving cars from one location to another (which is negative) \n",
    "    \n",
    "    expected_reward = expected_reward + JacksCarsRental.moving_reward() * abs(action)\n",
    "    \n",
    "    # there are four discrete random variables which determine the probability distribution of the reward and next state\n",
    "    for first_requests in range(first_location.poisson_alpha.alpha, first_location.poisson_alpha.beta):\n",
    "        for second_requests in range(second_location.poisson_alpha.alpha, second_location.poisson_alpha.beta):\n",
    "            for first_returns in range(first_location.poisson_beta.alpha, first_location.poisson_beta.beta):\n",
    "                for second_returns in range(second_location.poisson_beta.alpha, second_location.poisson_beta.beta):\n",
    "                    \"\"\"\n",
    "                    first_requests  : sample of cars requested at first_location\n",
    "                    second_requests : sample of cars requested at second_location\n",
    "                    first_returns   : sample of cars returned at first_location \n",
    "                    second_returns  : sample of cars returned at second_location \n",
    "                    prob : probability of this event happening\n",
    "                    \"\"\"\n",
    "\n",
    "                    # all four variables are independent of each other\n",
    "                    prob = first_location.poisson_alpha.vals[first_requests] * second_location.poisson_alpha.vals[second_requests] * first_location.poisson_beta.vals[first_returns] * second_location.poisson_beta.vals[second_returns]\n",
    "                    \n",
    "                    valid_requests_A = min(new_state[0], first_requests)\n",
    "                    valid_requests_B = min(new_state[1], second_requests)\n",
    "\n",
    "                    reward = (valid_requests_A + valid_requests_B)*(JacksCarsRental.credit_reward())\n",
    "\n",
    "                    # calculating the new state based on the values of the four random variables\n",
    "                    new_s = [0,0]\n",
    "                    new_s[0] = max(min(new_state[0] - valid_requests_A + first_requests, JacksCarsRental.max_cars()),0)\n",
    "                    new_s[1] = max(min(new_state[1] - valid_requests_B + second_requests, JacksCarsRental.max_cars()),0)\n",
    "\n",
    "                    # Bellman's equation\n",
    "                    expected_reward += prob * (reward + JacksCarsRental.discount_rate() * value[new_s[0]][new_s[1]])\n",
    "\n",
    "    return expected_reward"
   ]
  },
  {
   "cell_type": "code",
   "execution_count": 333,
   "metadata": {
    "ExecuteTime": {
     "end_time": "2021-03-24T18:13:52.552162Z",
     "start_time": "2021-03-24T18:13:52.538160Z"
    }
   },
   "outputs": [],
   "source": [
    "def policy_evaluation():\n",
    "    \n",
    "    global value\n",
    "    \n",
    "    # here policy_evaluation has a static variable ε whose values decreases over time\n",
    "    epsilon = policy_evaluation.epsilon\n",
    "    \n",
    "    policy_evaluation.epsilon /= 10 \n",
    "    \n",
    "    while(1):\n",
    "        k = 0\n",
    "        \n",
    "        for i in range(value.shape[0]):\n",
    "            for j in range(value.shape[1]):\n",
    "                # value[i][j] denotes the value of the state [i,j]\n",
    "                \n",
    "                old_val = value[i][j]\n",
    "                value[i][j] = expected_reward([i,j], policy[i][j])\n",
    "                \n",
    "                k = max(k, abs(value[i][j] - old_val))\n",
    "                \n",
    "                print('.', end = '')\n",
    "                sys.stdout.flush()\n",
    "        print(k)\n",
    "        sys.stdout.flush()\n",
    "    \n",
    "        if k < epsilon:\n",
    "            break\n",
    "\n",
    "#initial value of ε\n",
    "policy_evaluation.epsilon = 50"
   ]
  },
  {
   "cell_type": "code",
   "execution_count": 334,
   "metadata": {
    "ExecuteTime": {
     "end_time": "2021-03-24T18:13:52.939489Z",
     "start_time": "2021-03-24T18:13:52.928962Z"
    }
   },
   "outputs": [
    {
     "data": {
      "text/plain": [
       "<function __main__.expected_reward(state, action)>"
      ]
     },
     "execution_count": 334,
     "metadata": {},
     "output_type": "execute_result"
    }
   ],
   "source": [
    "expected_reward"
   ]
  },
  {
   "cell_type": "markdown",
   "metadata": {},
   "source": [
    "### Policy improvement"
   ]
  },
  {
   "cell_type": "code",
   "execution_count": 335,
   "metadata": {
    "ExecuteTime": {
     "end_time": "2021-03-24T18:13:53.387084Z",
     "start_time": "2021-03-24T18:13:53.372584Z"
    }
   },
   "outputs": [],
   "source": [
    "def policy_improvement():\n",
    "    # policy table을 전역변수로 관리 \n",
    "    global policy\n",
    "    \n",
    "    policy_stable = True\n",
    "    for i in range(value.shape[0]):\n",
    "        for j in range(value.shape[1]):\n",
    "            old_action = policy[i][j]\n",
    "            \n",
    "            max_act_val = None\n",
    "            max_act = None\n",
    "            \n",
    "            car_capacity_12 = min(i,5)       # if I have say 3 cars at the first location, then I can atmost move 3 from 1 to 2\n",
    "            car_capacity_21 = - min(j,5)     # if I have say 2 cars at the second location, then I can atmost move 2 from 2 to 1\n",
    "            \n",
    "            for act in range(car_capacity_21,car_capacity_12+1):\n",
    "                temp_expected_reward = expected_reward([i,j], act)\n",
    "                if max_act_val == None:\n",
    "                    max_act_val = temp_expected_reward\n",
    "                    max_act = act\n",
    "                elif max_act_val < temp_expected_reward:\n",
    "                    max_act_val = temp_expected_reward\n",
    "                    max_act = act\n",
    "                \n",
    "            policy[i][j] = max_act\n",
    "            \n",
    "            if old_action!= policy[i][j]:\n",
    "                policy_stable = False\n",
    "    \n",
    "    return policy_stable"
   ]
  },
  {
   "cell_type": "code",
   "execution_count": 336,
   "metadata": {
    "ExecuteTime": {
     "end_time": "2021-03-24T18:13:53.726474Z",
     "start_time": "2021-03-24T18:13:53.715474Z"
    }
   },
   "outputs": [],
   "source": [
    "def save_policy():\n",
    "    save_policy.counter += 1\n",
    "    ax = sns.heatmap(policy, linewidth=0.5)\n",
    "    ax.invert_yaxis()\n",
    "    plt.savefig('policy'+str(save_policy.counter)+'.svg')\n",
    "    plt.close()\n",
    "    \n",
    "def save_value():\n",
    "    save_value.counter += 1\n",
    "    ax = sns.heatmap(value, linewidth=0.5)\n",
    "    ax.invert_yaxis()\n",
    "    plt.savefig('value'+ str(save_value.counter)+'.svg')\n",
    "    plt.close()"
   ]
  },
  {
   "cell_type": "code",
   "execution_count": 340,
   "metadata": {
    "ExecuteTime": {
     "end_time": "2021-03-24T18:17:57.956327Z",
     "start_time": "2021-03-24T18:17:57.948319Z"
    }
   },
   "outputs": [],
   "source": [
    "save_policy.counter = 0\n",
    "save_value.counter = 0"
   ]
  },
  {
   "cell_type": "code",
   "execution_count": 341,
   "metadata": {
    "ExecuteTime": {
     "end_time": "2021-03-24T18:21:23.188155Z",
     "start_time": "2021-03-24T18:17:58.541838Z"
    }
   },
   "outputs": [
    {
     "name": "stdout",
     "output_type": "stream",
     "text": [
      ".........................................................................................................................................................................................................................................................................................................................................................................................................................................................146.2040837604319\n",
      ".........................................................................................................................................................................................................................................................................................................................................................................................................................................................39.21418143680148\n",
      ".........................................................................................................................................................................................................................................................................................................................................................................................................................................................34.119363808558205\n",
      ".........................................................................................................................................................................................................................................................................................................................................................................................................................................................29.809908335634873\n",
      ".........................................................................................................................................................................................................................................................................................................................................................................................................................................................26.70211073783929\n",
      ".........................................................................................................................................................................................................................................................................................................................................................................................................................................................24.031899664058415\n",
      ".........................................................................................................................................................................................................................................................................................................................................................................................................................................................21.628709697649356\n",
      ".........................................................................................................................................................................................................................................................................................................................................................................................................................................................19.465838727885796\n",
      ".........................................................................................................................................................................................................................................................................................................................................................................................................................................................17.51925485509878\n",
      ".........................................................................................................................................................................................................................................................................................................................................................................................................................................................15.767329369588197\n",
      ".........................................................................................................................................................................................................................................................................................................................................................................................................................................................14.190596432629263\n",
      ".........................................................................................................................................................................................................................................................................................................................................................................................................................................................12.7715367893652\n",
      ".........................................................................................................................................................................................................................................................................................................................................................................................................................................................11.494383110432295\n",
      ".........................................................................................................................................................................................................................................................................................................................................................................................................................................................10.344944799387122\n",
      ".........................................................................................................................................................................................................................................................................................................................................................................................................................................................9.310450319451434\n",
      ".........................................................................................................................................................................................................................................................................................................................................................................................................................................................8.379405287501186\n",
      ".........................................................................................................................................................................................................................................................................................................................................................................................................................................................7.5414647587508625\n"
     ]
    },
    {
     "name": "stdout",
     "output_type": "stream",
     "text": [
      ".........................................................................................................................................................................................................................................................................................................................................................................................................................................................6.787318282880847\n",
      ".........................................................................................................................................................................................................................................................................................................................................................................................................................................................6.108586454589499\n",
      ".........................................................................................................................................................................................................................................................................................................................................................................................................................................................5.49772780912906\n",
      ".........................................................................................................................................................................................................................................................................................................................................................................................................................................................4.947955028216711\n"
     ]
    }
   ],
   "source": [
    "# k = 1\n",
    "policy_evaluation()"
   ]
  },
  {
   "cell_type": "code",
   "execution_count": null,
   "metadata": {},
   "outputs": [],
   "source": [
    "# k = 2\n",
    "policy_evaluation()"
   ]
  },
  {
   "cell_type": "markdown",
   "metadata": {},
   "source": [
    "## Discussion"
   ]
  },
  {
   "cell_type": "code",
   "execution_count": 375,
   "metadata": {
    "ExecuteTime": {
     "end_time": "2021-03-25T02:01:59.567923Z",
     "start_time": "2021-03-25T02:01:59.315448Z"
    }
   },
   "outputs": [
    {
     "data": {
      "text/plain": [
       "Text(33.0, 0.5, '#Cars at first location')"
      ]
     },
     "execution_count": 375,
     "metadata": {},
     "output_type": "execute_result"
    },
    {
     "data": {
      "image/png": "[encoded data removed]",
      "text/plain": [
       "<Figure size 432x288 with 2 Axes>"
      ]
     },
     "metadata": {
      "needs_background": "light"
     },
     "output_type": "display_data"
    }
   ],
   "source": [
    "ax = sns.heatmap(policy, linewidth=0.5)\n",
    "ax.invert_yaxis()\n",
    "plt.title(\"$Policy_{k=2}$\")\n",
    "plt.xlabel('#Cars at second location', fontsize=13)\n",
    "plt.ylabel('#Cars at first location', fontsize=13)"
   ]
  },
  {
   "cell_type": "markdown",
   "metadata": {},
   "source": [
    "> 위 figure는 $\\pi_{k = 2}$인 경우, 각 state에서의 policy(action)를 시각화  \n",
    "> \n",
    "> 각각의 `first location`, `second location`의 state가 gird로 표현되어있으며, cell 색상이 의미하는 것은 각 state에서의 action에 해당되는 action을 의미합니다."
   ]
  },
  {
   "cell_type": "code",
   "execution_count": 371,
   "metadata": {
    "ExecuteTime": {
     "end_time": "2021-03-25T02:00:15.736876Z",
     "start_time": "2021-03-25T02:00:15.490354Z"
    }
   },
   "outputs": [
    {
     "data": {
      "text/plain": [
       "Text(33.0, 0.5, '#Cars at first location')"
      ]
     },
     "execution_count": 371,
     "metadata": {},
     "output_type": "execute_result"
    },
    {
     "data": {
      "image/png": "[encoded data removed]",
      "text/plain": [
       "<Figure size 432x288 with 2 Axes>"
      ]
     },
     "metadata": {
      "needs_background": "light"
     },
     "output_type": "display_data"
    }
   ],
   "source": [
    "ax = sns.heatmap(value, linewidth=0.5)\n",
    "ax.invert_yaxis()\n",
    "plt.xlabel('#Cars at second location', fontsize=13)\n",
    "plt.ylabel('#Cars at first location', fontsize=13)"
   ]
  },
  {
   "cell_type": "markdown",
   "metadata": {},
   "source": [
    "> 위 figure는 $\\pi_{k = \\infty}$인 경우, 각 state에서의 value를 시각화  \n",
    "> \n",
    "> 각각의 `first location`, `second location`의 state가 gird로 표현되어있으며, cell 색상이 의미하는 것은 state에서의 value를 의미합니다."
   ]
  }
 ],
 "metadata": {
  "hide_input": false,
  "kernelspec": {
   "display_name": "Python 3",
   "language": "python",
   "name": "python3"
  },
  "language_info": {
   "codemirror_mode": {
    "name": "ipython",
    "version": 3
   },
   "file_extension": ".py",
   "mimetype": "text/x-python",
   "name": "python",
   "nbconvert_exporter": "python",
   "pygments_lexer": "ipython3",
   "version": "3.7.1"
  },
  "toc": {
   "base_numbering": 1,
   "nav_menu": {},
   "number_sections": false,
   "sideBar": true,
   "skip_h1_title": false,
   "title_cell": "Table of Contents",
   "title_sidebar": "Contents",
   "toc_cell": false,
   "toc_position": {
    "height": "calc(100% - 180px)",
    "left": "10px",
    "top": "150px",
    "width": "331.591px"
   },
   "toc_section_display": true,
   "toc_window_display": true
  }
 },
 "nbformat": 4,
 "nbformat_minor": 2
}
