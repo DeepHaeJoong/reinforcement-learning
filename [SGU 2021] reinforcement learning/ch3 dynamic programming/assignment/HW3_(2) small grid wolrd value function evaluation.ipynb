{
 "cells": [
  {
   "cell_type": "markdown",
   "metadata": {},
   "source": [
    "### description\n",
    "\n",
    "\n",
    "\n",
    "\n",
    "- reward : `-1`\n",
    "- action : random policy (up : `0.25`, down : `0.25`, left : `0.25`, right : `0.25`)\n",
    "- state : `wall`은 `100`으로 표현하였으며, 내부에 있는 좌표를 state로 표현\n",
    "- value function table : 초기 value function은 모두 0으로 설정\n",
    "\n",
    "| . | . | . | . | . | . |\n",
    "|---|:---:|---:|---:|---:|---:|\n",
    "| 100 | 100 | 100 | 100 | 100 | 100 |\n",
    "| 100 | start | 0 | 0 | 0 | 100 |\n",
    "| 100 | 0 | 0 | 0 | 0 | 100 |\n",
    "| 100 | 0 | 0 | 0 | 0 | 100 |\n",
    "| 100 | 0 | 0 | 0 | finish | 100 |\n",
    "| 100 | 100 | 100 | 100 | 100 | 100 |"
   ]
  },
  {
   "cell_type": "code",
   "execution_count": 223,
   "metadata": {
    "ExecuteTime": {
     "end_time": "2021-03-19T08:51:18.803151Z",
     "start_time": "2021-03-19T08:51:18.796652Z"
    },
    "scrolled": true
   },
   "outputs": [
    {
     "name": "stdout",
     "output_type": "stream",
     "text": [
      "1 : random policy table with 1/4\n",
      "{'up': 0.25, 'down': 0.25, 'left': 0.25, 'right': 0.25}\n",
      "\n",
      "\n",
      "2 : Initialized value table with 0\n",
      "[[100. 100. 100. 100. 100. 100.]\n",
      " [100.   0.   0.   0.   0. 100.]\n",
      " [100.   0.   0.   0.   0. 100.]\n",
      " [100.   0.   0.   0.   0. 100.]\n",
      " [100.   0.   0.   0.   0. 100.]\n",
      " [100. 100. 100. 100. 100. 100.]]\n",
      "\n",
      "\n",
      "3 : Index of value table\n",
      "[(1, 1), (1, 2), (1, 3), (1, 4), (2, 1), (2, 2), (2, 3), (2, 4), (3, 1), (3, 2), (3, 3), (3, 4), (4, 1), (4, 2), (4, 3), (4, 4)]\n"
     ]
    }
   ],
   "source": [
    "from itertools import product\n",
    "import numpy as np\n",
    "\n",
    "reward = -1\n",
    "\n",
    "# action table\n",
    "# actions = np.array([0.25, 0.25, 0.25, 0.25])\n",
    "actions = {'up': 1/4, 'down':1/4, 'left':1/4, 'right':1/4}\n",
    "\n",
    "print('1 : random policy table with 1/4')\n",
    "print(actions)\n",
    "print('\\n')\n",
    "\n",
    "# small grid에 대한 value table 생성\n",
    "\n",
    "value_table = np.array([[100, 100, 100, 100, 100, 100],\n",
    "                        [100, 0.0, 0.0, 0.0, 0.0, 100],\n",
    "                        [100, 0.0, 0.0, 0.0, 0.0, 100],\n",
    "                        [100, 0.0, 0.0, 0.0, 0.0, 100],\n",
    "                        [100, 0.0, 0.0, 0.0, 0.0, 100],\n",
    "                        [100, 100, 100, 100, 100, 100]])\n",
    "\n",
    "print('2 : Initialized value table with 0')\n",
    "print(value_table)\n",
    "print('\\n')\n",
    "\n",
    "# small grid의 좌표 생성\n",
    "print(\"3 : Index of value table\")\n",
    "size = 4\n",
    "size = np.arange(1, size+1)\n",
    "indexs = list(product(size, size))\n",
    "print(indexs)"
   ]
  },
  {
   "cell_type": "markdown",
   "metadata": {},
   "source": [
    "## function "
   ]
  },
  {
   "cell_type": "code",
   "execution_count": 224,
   "metadata": {
    "ExecuteTime": {
     "end_time": "2021-03-19T08:51:19.598155Z",
     "start_time": "2021-03-19T08:51:19.590152Z"
    },
    "scrolled": false
   },
   "outputs": [],
   "source": [
    "# epoch에 따른 value function 결과 출력 함수\n",
    "\n",
    "def small_grid_world_value_function(epoch):\n",
    "    '''\n",
    "    args : epoch (k)로 update 수\n",
    "    output : value function table\n",
    "    '''\n",
    "    \n",
    "    # small grid의 value table 생성\n",
    "    value_table = np.array([[100, 100, 100, 100, 100, 100],\n",
    "                            [100, 0.0, 0.0, 0.0, 0.0, 100],\n",
    "                            [100, 0.0, 0.0, 0.0, 0.0, 100],\n",
    "                            [100, 0.0, 0.0, 0.0, 0.0, 100],\n",
    "                            [100, 0.0, 0.0, 0.0, 0.0, 100],\n",
    "                            [100, 100, 100, 100, 100, 100]])           \n",
    "    \n",
    "    for k in range(epoch): \n",
    "        \n",
    "        temp_value_table = value_table.copy()\n",
    "\n",
    "        for index in indexs:\n",
    "\n",
    "            # 시작점 idnex = (1,1) 및 종료점 index = (4,4) 는 update skip\n",
    "            if ((index[0] == 1) and (index[1] == 1)) or ((index[0] == 4) and (index[1] == 4)):\n",
    "                continue\n",
    "\n",
    "            # (1,2) .. (4,3) 순차적으로 업데이트하기 위해 (x, y) index 추출\n",
    "            temp_x = index[0]\n",
    "            temp_y = index[1]\n",
    "\n",
    "            # s(x, y) 기준 action(up/down/left/right)에 따른 value_function(s'(x', y'), a) 값 참조\n",
    "            temp_up_value = value_table[temp_x-1][temp_y]\n",
    "            temp_down_value = value_table[temp_x+1][temp_y]\n",
    "            temp_left_value = value_table[temp_x][temp_y-1]\n",
    "            temp_right_value = value_table[temp_x][temp_y+1]\n",
    "\n",
    "            # 위 action에서 벽에 부딪치는 경우 value_function(s'(x', y'), a) = value_function(s(x, y))\n",
    "            if temp_up_value == 100:\n",
    "                temp_up_value =  value_table[temp_x][temp_y]\n",
    "\n",
    "            if temp_down_value == 100:\n",
    "                temp_down_value =  value_table[temp_x][temp_y]\n",
    "\n",
    "            if temp_left_value == 100:\n",
    "                temp_left_value =  value_table[temp_x][temp_y]\n",
    "\n",
    "            if temp_right_value == 100:\n",
    "                temp_right_value =  value_table[temp_x][temp_y]              \n",
    "\n",
    "\n",
    "            temp_value = actions['up']*(reward+temp_up_value)+actions['down']*(reward+temp_down_value)+actions['left']*(reward+temp_left_value)+actions['right']*(reward+temp_right_value)\n",
    "            temp_value = np.round(temp_value, 3)\n",
    "            #print(temp_value)\n",
    "            temp_value_table[temp_x][temp_y] = temp_value\n",
    "\n",
    "        value_table = temp_value_table.copy()\n",
    "        \n",
    "    return value_table"
   ]
  },
  {
   "cell_type": "markdown",
   "metadata": {},
   "source": [
    "### output"
   ]
  },
  {
   "cell_type": "code",
   "execution_count": 215,
   "metadata": {
    "ExecuteTime": {
     "end_time": "2021-03-19T08:42:12.011349Z",
     "start_time": "2021-03-19T08:42:12.007849Z"
    }
   },
   "outputs": [
    {
     "data": {
      "text/plain": [
       "array([[100., 100., 100., 100., 100., 100.],\n",
       "       [100.,   0.,   0.,   0.,   0., 100.],\n",
       "       [100.,   0.,   0.,   0.,   0., 100.],\n",
       "       [100.,   0.,   0.,   0.,   0., 100.],\n",
       "       [100.,   0.,   0.,   0.,   0., 100.],\n",
       "       [100., 100., 100., 100., 100., 100.]])"
      ]
     },
     "execution_count": 215,
     "metadata": {},
     "output_type": "execute_result"
    }
   ],
   "source": [
    "# k = 0 에 따른 value function update\n",
    "small_grid_world_value_function(epoch = 0)"
   ]
  },
  {
   "cell_type": "code",
   "execution_count": 216,
   "metadata": {
    "ExecuteTime": {
     "end_time": "2021-03-19T08:42:12.176391Z",
     "start_time": "2021-03-19T08:42:12.172390Z"
    }
   },
   "outputs": [
    {
     "data": {
      "text/plain": [
       "array([[100., 100., 100., 100., 100., 100.],\n",
       "       [100.,   0.,  -1.,  -1.,  -1., 100.],\n",
       "       [100.,  -1.,  -1.,  -1.,  -1., 100.],\n",
       "       [100.,  -1.,  -1.,  -1.,  -1., 100.],\n",
       "       [100.,  -1.,  -1.,  -1.,   0., 100.],\n",
       "       [100., 100., 100., 100., 100., 100.]])"
      ]
     },
     "execution_count": 216,
     "metadata": {},
     "output_type": "execute_result"
    }
   ],
   "source": [
    "# k = 1 에 따른 value function update\n",
    "small_grid_world_value_function(epoch = 1)"
   ]
  },
  {
   "cell_type": "code",
   "execution_count": 217,
   "metadata": {
    "ExecuteTime": {
     "end_time": "2021-03-19T08:42:12.337393Z",
     "start_time": "2021-03-19T08:42:12.333888Z"
    }
   },
   "outputs": [
    {
     "data": {
      "text/plain": [
       "array([[100.  , 100.  , 100.  , 100.  , 100.  , 100.  ],\n",
       "       [100.  ,   0.  ,  -1.75,  -2.  ,  -2.  , 100.  ],\n",
       "       [100.  ,  -1.75,  -2.  ,  -2.  ,  -2.  , 100.  ],\n",
       "       [100.  ,  -2.  ,  -2.  ,  -2.  ,  -1.75, 100.  ],\n",
       "       [100.  ,  -2.  ,  -2.  ,  -1.75,   0.  , 100.  ],\n",
       "       [100.  , 100.  , 100.  , 100.  , 100.  , 100.  ]])"
      ]
     },
     "execution_count": 217,
     "metadata": {},
     "output_type": "execute_result"
    }
   ],
   "source": [
    "# k = 2 에 따른 value function update\n",
    "small_grid_world_value_function(epoch = 2)"
   ]
  },
  {
   "cell_type": "code",
   "execution_count": 218,
   "metadata": {
    "ExecuteTime": {
     "end_time": "2021-03-19T08:42:12.503915Z",
     "start_time": "2021-03-19T08:42:12.500414Z"
    }
   },
   "outputs": [
    {
     "data": {
      "text/plain": [
       "array([[100.   , 100.   , 100.   , 100.   , 100.   , 100.   ],\n",
       "       [100.   ,   0.   ,  -2.438,  -2.938,  -3.   , 100.   ],\n",
       "       [100.   ,  -2.438,  -2.875,  -3.   ,  -2.938, 100.   ],\n",
       "       [100.   ,  -2.938,  -3.   ,  -2.875,  -2.438, 100.   ],\n",
       "       [100.   ,  -3.   ,  -2.938,  -2.438,   0.   , 100.   ],\n",
       "       [100.   , 100.   , 100.   , 100.   , 100.   , 100.   ]])"
      ]
     },
     "execution_count": 218,
     "metadata": {},
     "output_type": "execute_result"
    }
   ],
   "source": [
    "# k = 3 에 따른 value function update\n",
    "small_grid_world_value_function(epoch = 3)"
   ]
  },
  {
   "cell_type": "code",
   "execution_count": 219,
   "metadata": {
    "ExecuteTime": {
     "end_time": "2021-03-19T08:42:12.675389Z",
     "start_time": "2021-03-19T08:42:12.670890Z"
    }
   },
   "outputs": [
    {
     "data": {
      "text/plain": [
       "array([[100.   , 100.   , 100.   , 100.   , 100.   , 100.   ],\n",
       "       [100.   ,   0.   ,  -3.063,  -3.844,  -3.969, 100.   ],\n",
       "       [100.   ,  -3.063,  -3.719,  -3.907,  -3.844, 100.   ],\n",
       "       [100.   ,  -3.844,  -3.907,  -3.719,  -3.063, 100.   ],\n",
       "       [100.   ,  -3.969,  -3.844,  -3.063,   0.   , 100.   ],\n",
       "       [100.   , 100.   , 100.   , 100.   , 100.   , 100.   ]])"
      ]
     },
     "execution_count": 219,
     "metadata": {},
     "output_type": "execute_result"
    }
   ],
   "source": [
    "# k = 4 에 따른 value function update\n",
    "small_grid_world_value_function(epoch = 4)"
   ]
  },
  {
   "cell_type": "code",
   "execution_count": 220,
   "metadata": {
    "ExecuteTime": {
     "end_time": "2021-03-19T08:42:12.843544Z",
     "start_time": "2021-03-19T08:42:12.838041Z"
    }
   },
   "outputs": [
    {
     "data": {
      "text/plain": [
       "array([[100.   , 100.   , 100.   , 100.   , 100.   , 100.   ],\n",
       "       [100.   ,   0.   ,  -6.138,  -8.352,  -8.968, 100.   ],\n",
       "       [100.   ,  -6.138,  -7.737,  -8.428,  -8.352, 100.   ],\n",
       "       [100.   ,  -8.352,  -8.428,  -7.737,  -6.138, 100.   ],\n",
       "       [100.   ,  -8.968,  -8.352,  -6.138,   0.   , 100.   ],\n",
       "       [100.   , 100.   , 100.   , 100.   , 100.   , 100.   ]])"
      ]
     },
     "execution_count": 220,
     "metadata": {},
     "output_type": "execute_result"
    }
   ],
   "source": [
    "# k = 10 에 따른 value function update\n",
    "small_grid_world_value_function(epoch = 10)"
   ]
  },
  {
   "cell_type": "code",
   "execution_count": 221,
   "metadata": {
    "ExecuteTime": {
     "end_time": "2021-03-19T08:42:13.157542Z",
     "start_time": "2021-03-19T08:42:12.992544Z"
    }
   },
   "outputs": [
    {
     "data": {
      "text/plain": [
       "array([[100.   , 100.   , 100.   , 100.   , 100.   , 100.   ],\n",
       "       [100.   ,   0.   , -13.997, -19.996, -21.996, 100.   ],\n",
       "       [100.   , -13.997, -17.996, -19.996, -19.996, 100.   ],\n",
       "       [100.   , -19.996, -19.996, -17.996, -13.997, 100.   ],\n",
       "       [100.   , -21.996, -19.996, -13.997,   0.   , 100.   ],\n",
       "       [100.   , 100.   , 100.   , 100.   , 100.   , 100.   ]])"
      ]
     },
     "execution_count": 221,
     "metadata": {},
     "output_type": "execute_result"
    }
   ],
   "source": [
    "# k 에 따른 value function update\n",
    "small_grid_world_value_function(epoch = 999)"
   ]
  },
  {
   "cell_type": "code",
   "execution_count": 222,
   "metadata": {
    "ExecuteTime": {
     "end_time": "2021-03-19T08:42:13.347047Z",
     "start_time": "2021-03-19T08:42:13.179544Z"
    }
   },
   "outputs": [
    {
     "data": {
      "text/plain": [
       "array([[100.   , 100.   , 100.   , 100.   , 100.   , 100.   ],\n",
       "       [100.   ,   0.   , -13.997, -19.996, -21.996, 100.   ],\n",
       "       [100.   , -13.997, -17.996, -19.996, -19.996, 100.   ],\n",
       "       [100.   , -19.996, -19.996, -17.996, -13.997, 100.   ],\n",
       "       [100.   , -21.996, -19.996, -13.997,   0.   , 100.   ],\n",
       "       [100.   , 100.   , 100.   , 100.   , 100.   , 100.   ]])"
      ]
     },
     "execution_count": 222,
     "metadata": {},
     "output_type": "execute_result"
    }
   ],
   "source": [
    "# k 에 따른 value function update\n",
    "small_grid_world_value_function(epoch = 999)"
   ]
  }
 ],
 "metadata": {
  "hide_input": false,
  "kernelspec": {
   "display_name": "Python 3",
   "language": "python",
   "name": "python3"
  },
  "language_info": {
   "codemirror_mode": {
    "name": "ipython",
    "version": 3
   },
   "file_extension": ".py",
   "mimetype": "text/x-python",
   "name": "python",
   "nbconvert_exporter": "python",
   "pygments_lexer": "ipython3",
   "version": "3.7.1"
  },
  "toc": {
   "base_numbering": 1,
   "nav_menu": {},
   "number_sections": false,
   "sideBar": true,
   "skip_h1_title": false,
   "title_cell": "Table of Contents",
   "title_sidebar": "Contents",
   "toc_cell": false,
   "toc_position": {},
   "toc_section_display": true,
   "toc_window_display": true
  }
 },
 "nbformat": 4,
 "nbformat_minor": 2
}
