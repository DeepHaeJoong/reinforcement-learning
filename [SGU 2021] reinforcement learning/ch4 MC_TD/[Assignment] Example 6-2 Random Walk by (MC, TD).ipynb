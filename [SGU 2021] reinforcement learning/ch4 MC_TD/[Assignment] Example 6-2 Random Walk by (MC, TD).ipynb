{
 "cells": [
  {
   "cell_type": "markdown",
   "metadata": {},
   "source": [
    "### Examples 6.2 Random Walk"
   ]
  },
  {
   "cell_type": "code",
   "execution_count": 11,
   "metadata": {
    "ExecuteTime": {
     "end_time": "2021-04-05T20:15:58.062791Z",
     "start_time": "2021-04-05T20:15:58.045791Z"
    }
   },
   "outputs": [],
   "source": [
    "import numpy as np\n",
    "import matplotlib.pyplot as plt"
   ]
  },
  {
   "cell_type": "markdown",
   "metadata": {},
   "source": [
    "### Random Walk Environment"
   ]
  },
  {
   "cell_type": "markdown",
   "metadata": {},
   "source": [
    "<img src=\"https://i.stack.imgur.com/ts9va.png\" alt=\"drawing\" width=\"600\"/>"
   ]
  },
  {
   "cell_type": "markdown",
   "metadata": {},
   "source": [
    "- **`alpha`** = 0.1\n",
    "- **`discount factor`** = 1"
   ]
  },
  {
   "cell_type": "markdown",
   "metadata": {},
   "source": [
    "### First-visit MC prediction, for estimating $V \\approx v_{\\pi}$\n",
    "\n",
    "<img src=\"https://blog.kakaocdn.net/dn/yBex9/btqxYVMpgtP/aLvceTvaVMkgwM2QFGNgj0/img.jpg\" alt=\"drawing\" width=\"600\"/>"
   ]
  },
  {
   "cell_type": "markdown",
   "metadata": {},
   "source": [
    "$$ V(s) \\leftarrow V(s) + a(G(s) - V(s))$$"
   ]
  },
  {
   "cell_type": "code",
   "execution_count": 172,
   "metadata": {
    "ExecuteTime": {
     "end_time": "2021-04-06T02:06:34.943061Z",
     "start_time": "2021-04-06T02:06:34.909061Z"
    },
    "scrolled": false
   },
   "outputs": [
    {
     "name": "stdout",
     "output_type": "stream",
     "text": [
      "[-0.009       0.00090909  0.10000009  0.1009      0.09      ]\n"
     ]
    }
   ],
   "source": [
    "# 설계를 동일하게 하려 했으나, estimated value가 이상하게 나와 수정을 필요로 합니다.\n",
    "# (우선, 구현된 결과는 저자 코드를 참고하였습니다.)\n",
    "class RandomWalk_MC:\n",
    "    def __init__(self, alpha = 0.1, values = np.ones(7) * 0.5):\n",
    "        self.nodes = [\"Left Terminal\", \"A\", \"B\", \"C\", \"D\", \"E\", \"Right Terminal\"]\n",
    "        self.state = 3   # Initial state is \"C\"\n",
    "        self.node = self.nodes[self.state]\n",
    "        self.values = values\n",
    "        self.terminated = False\n",
    "        self.alpha = alpha\n",
    "        self.memory = []\n",
    "\n",
    "    def take_action(self):\n",
    "        action = np.random.choice([\"left\", \"right\"])\n",
    "        \n",
    "        if not self.terminated:\n",
    "            self.step += 1\n",
    "            if action == \"left\":\n",
    "                new_state = self.state - 1\n",
    "            elif action == 'right':\n",
    "                new_state = self.state + 1\n",
    "            \n",
    "            reward = self.get_reward(new_state)\n",
    "            self.total_reward += reward\n",
    "            \n",
    "            # fitst visit MC 으로 가정\n",
    "            # episode 마다 각 v(s)를 추론하기 위해 (staete)를 list로 저장\n",
    "            self.memory.append((self.node))\n",
    "            \n",
    "            # self.update_value_table(self.state, new_state)\n",
    "            self.update_value_table(self.memory, reward)\n",
    "            \n",
    "            self.state = new_state\n",
    "            self.node = self.nodes[self.state]\n",
    "            \n",
    "            if (self.node == \"Left Terminal\") or (self.node == \"Right Terminal\"):\n",
    "                #print(\"The random walk has terminated.\")\n",
    "                self.terminated = True\n",
    "            \n",
    "        else :\n",
    "            print(\"Aleady Terminated!\")\n",
    "\n",
    "    \n",
    "    def get_reward(self, new_state):\n",
    "        return 1.0 if self.nodes[new_state] == \"Right Terminal\" else 0.0\n",
    "\n",
    "    # Monte Carlo\n",
    "    def update_value_table(self, memory, reward):\n",
    "        discount_factor = 1.0\n",
    "        # print(reward)\n",
    "        returns = reward\n",
    "        # 수정 필요..\n",
    "        # first visit check\n",
    "        for idx, step in enumerate(self.memory):\n",
    "            #print(reward)\n",
    "            # first visit check\n",
    "            # update Value by MC\n",
    "            self.values[self.nodes.index(str(step[0]))] = self.alpha * (returns - self.values[self.nodes.index(str(step[0]))])\n",
    "\n",
    "# test\n",
    "# Initialize estimates at all 0.5\n",
    "value_estimates = np.ones(7) * 0.5\n",
    "\n",
    "# #episode_list = [0, 1, 10, 100]\n",
    "N_episodes = 100\n",
    "\n",
    "# Loop episode\n",
    "for episode in range(N_episodes):\n",
    "    \n",
    "    # Use value estimates from previous iteration\n",
    "    c = RandomWalk_MC(values = value_estimates)\n",
    "    \n",
    "    # Generate an episode following policy : \n",
    "    while not c.terminated:\n",
    "        c.take_action()\n",
    "\n",
    "#     if c.terminated == True:\n",
    "#         print(\"finished at : {}\".format(c.node))\n",
    "#         print('episode : {}, The number of step : {}\\n The sequence of action is:\\\n",
    "#               {}\\nThe total reward is: {}\\n'.format(episode+1, c.step, [i[1] for i in c.memory] , c.total_reward))\n",
    "\n",
    "    # Update value estimates\n",
    "    value_estimates = c.values      \n",
    "\n",
    "print(value_estimates[1:-1])"
   ]
  },
  {
   "cell_type": "code",
   "execution_count": 114,
   "metadata": {
    "ExecuteTime": {
     "end_time": "2021-04-06T00:57:22.530558Z",
     "start_time": "2021-04-06T00:57:22.513456Z"
    },
    "scrolled": true
   },
   "outputs": [
    {
     "data": {
      "text/plain": [
       "array([0.5, 0.5, 0.5, 0.5, 0.5])"
      ]
     },
     "execution_count": 114,
     "metadata": {},
     "output_type": "execute_result"
    }
   ],
   "source": [
    "value_estimates[1:-1]"
   ]
  },
  {
   "cell_type": "code",
   "execution_count": 216,
   "metadata": {
    "ExecuteTime": {
     "end_time": "2021-04-06T02:26:43.276275Z",
     "start_time": "2021-04-06T02:26:43.265774Z"
    }
   },
   "outputs": [],
   "source": [
    "# 저자 코드 활용\n",
    "\n",
    "VALUES = np.zeros(7)\n",
    "VALUES[1:6] = 0.5\n",
    "# For convenience, we assume all rewards are 0\n",
    "# and the left terminal state has value 0, the right terminal state has value 1\n",
    "# This trick has been used in Gambler's Problem\n",
    "VALUES[6] = 1\n",
    "\n",
    "ACTION_LEFT = 0\n",
    "ACTION_RIGHT = 1\n",
    "\n",
    "def monte_carlo(values, alpha=0.1, batch=False):\n",
    "    state = 3\n",
    "    trajectory = [3]\n",
    "\n",
    "    # if end up with left terminal state, all returns are 0\n",
    "    # if end up with right terminal state, all returns are 1\n",
    "    while True:\n",
    "        if np.random.binomial(1, 0.5) == ACTION_LEFT:\n",
    "            state -= 1\n",
    "        else:\n",
    "            state += 1\n",
    "        trajectory.append(state)\n",
    "        if state == 6:\n",
    "            returns = 1.0\n",
    "            break\n",
    "        elif state == 0:\n",
    "            returns = 0.0\n",
    "            break\n",
    "            \n",
    "    #print(trajectory)\n",
    "    if not batch:\n",
    "        for state_ in trajectory[:-1]:\n",
    "            # MC update\n",
    "            values[state_] += alpha * (returns - values[state_])\n",
    "    \n",
    "    return trajectory, [returns] * (len(trajectory) - 1)"
   ]
  },
  {
   "cell_type": "code",
   "execution_count": 217,
   "metadata": {
    "ExecuteTime": {
     "end_time": "2021-04-06T02:26:44.077243Z",
     "start_time": "2021-04-06T02:26:44.057492Z"
    }
   },
   "outputs": [],
   "source": [
    "# Episode에 따른 MC의 value function 추정\n",
    "\n",
    "episode_lists = [0, 1, 10, 100]\n",
    "mc_estimated_values = []\n",
    "\n",
    "for episode_list in episode_lists:\n",
    "    \n",
    "    # value function 초기화    \n",
    "    VALUES = np.zeros(7)\n",
    "    VALUES[1:6] = 0.5\n",
    "    \n",
    "    N_episodes = episode_list\n",
    "\n",
    "    for episode in range(N_episodes):\n",
    "        # Episode\n",
    "        monte_carlo(VALUES)\n",
    "    \n",
    "    mc_estimated_values.append(VALUES[1:-1])"
   ]
  },
  {
   "cell_type": "markdown",
   "metadata": {},
   "source": [
    "### TD(0) prediction, for estimating $v_{\\pi}$\n",
    "\n",
    "<img src=\"https://miro.medium.com/max/3400/1*ZQOYa442n4FzLVv5233zzw.png\" alt=\"drawing\" width=\"600\"/>"
   ]
  },
  {
   "cell_type": "code",
   "execution_count": 225,
   "metadata": {
    "ExecuteTime": {
     "end_time": "2021-04-06T02:30:03.771325Z",
     "start_time": "2021-04-06T02:30:03.751812Z"
    },
    "scrolled": true
   },
   "outputs": [],
   "source": [
    "class RandomWalk_TD_0:\n",
    "    def __init__(self, alpha = 0.1, values = np.ones(7) * 0.5):\n",
    "        self.nodes = [\"Left Terminal\", \"A\", \"B\", \"C\", \"D\", \"E\", \"Right Terminal\"]\n",
    "        self.state = 3         # Initial location (state) is \"C\"\n",
    "        self.node = self.nodes[self.state]\n",
    "        self.values = values   # values : current states value, will be updated\n",
    "        self.terminated = False  \n",
    "        self.alpha = alpha     # step size\n",
    "        \n",
    "    def take_action(self):\n",
    "        action = np.random.choice([\"left\", \"right\"])\n",
    "        \n",
    "        if not self.terminated:\n",
    "            if action == \"left\":\n",
    "                # print(\"Moving to '←' at {}\".format(self.nodes[self.state]))\n",
    "                new_state = self.state - 1\n",
    "            elif action == 'right':\n",
    "                # print(\"Moving to '→' at {}\".format(self.nodes[self.state]))\n",
    "                new_state = self.state + 1\n",
    "            \n",
    "            reward = self.get_reward(new_state)\n",
    "    \n",
    "            self.update_value_table(self.state, new_state)\n",
    "            \n",
    "            self.state = new_state\n",
    "            self.node = self.nodes[self.state]\n",
    "\n",
    "            if (self.node == \"Left Terminal\") or (self.node == \"Right Terminal\"):\n",
    "                # print(\"The random walk has terminated.\")\n",
    "                self.terminated = True\n",
    "        \n",
    "        else :\n",
    "            print(\"Aleady Terminated!\")\n",
    "\n",
    "    \n",
    "    def get_reward(self, new_state):\n",
    "        return 1.0 if self.nodes[new_state] == \"Right Terminal\" else 0.0\n",
    "\n",
    "    # TD(0)\n",
    "    # update current estimate for last state\n",
    "    def update_value_table(self, state, new_state):\n",
    "        discount_factor = 1\n",
    "        if self.nodes[new_state] in (\"Left Terminal\", \"Right Terminal\"):\n",
    "            TD_target = self.get_reward(new_state)\n",
    "        else:\n",
    "            TD_target = self.get_reward(new_state) + discount_factor * self.values[new_state]\n",
    "            \n",
    "        TD_error = TD_target - self.values[state]\n",
    "        self.values[state] += self.alpha * (TD_error)"
   ]
  },
  {
   "cell_type": "code",
   "execution_count": 223,
   "metadata": {
    "ExecuteTime": {
     "end_time": "2021-04-06T02:29:29.375348Z",
     "start_time": "2021-04-06T02:29:29.360348Z"
    }
   },
   "outputs": [],
   "source": [
    "# Episode에 따른 TD(0)의 value function 추정\n",
    "\n",
    "episode_lists = [0, 1, 10, 100]\n",
    "td_estimated_values = []\n",
    "for episode_list in episode_lists:\n",
    "    \n",
    "    # value function 초기화\n",
    "    value_estimates = np.ones(7) * 0.5\n",
    "    \n",
    "    N_episodes = episode_list\n",
    "\n",
    "    for episode in range(N_episodes):\n",
    "        # Use value estimates from previous iteration\n",
    "        c = RandomWalk_TD_0(values = value_estimates)\n",
    "        while not c.terminated:\n",
    "            c.take_action()\n",
    "\n",
    "        # Update value estimates\n",
    "        value_estimates = c.values\n",
    "    \n",
    "    td_estimated_values.append(value_estimates[1:-1])"
   ]
  },
  {
   "cell_type": "code",
   "execution_count": 224,
   "metadata": {
    "ExecuteTime": {
     "end_time": "2021-04-06T02:29:32.489007Z",
     "start_time": "2021-04-06T02:29:32.238393Z"
    },
    "scrolled": true
   },
   "outputs": [
    {
     "data": {
      "image/png": "[encoded data removed]",
      "text/plain": [
       "<Figure size 1440x360 with 2 Axes>"
      ]
     },
     "metadata": {
      "needs_background": "light"
     },
     "output_type": "display_data"
    }
   ],
   "source": [
    "fig, axes = plt.subplots(nrows=1, ncols=2, figsize=(20, 5))\n",
    "\n",
    "# MC 결과 결과 시각화\n",
    "for i, j in enumerate(episode_lists):\n",
    "    axes[0].plot(mc_estimated_values[i], '-o', label = 'Episode : ' + str(episode_lists[i]))\n",
    "\n",
    "axes[0].plot([1/6, 2/6, 3/6, 4/6, 5/6], '-o', label = 'True values')\n",
    "axes[0].set_ylim([0.0, 1.0])\n",
    "axes[0].set_ylabel(\"Estimated value\", fontsize=15)\n",
    "axes[0].set_xlim([-1, 5])\n",
    "axes[0].set_xlabel(\"state\", fontsize=15)\n",
    "axes[0].set_xticks([0, 1, 2, 3, 4, 5])\n",
    "axes[0].set_xticklabels(['A', 'B', 'C', 'D', 'E'])\n",
    "axes[0].set_title(\"Estimated value using MC\", fontsize=15)\n",
    "axes[0].legend()\n",
    "\n",
    "# TD(0) 결과 시각화\n",
    "for i, j in enumerate(episode_lists):\n",
    "    axes[1].plot(td_estimated_values[i], '-o', label = 'Episode : ' + str(episode_lists[i]))\n",
    "\n",
    "axes[1].plot([1/6, 2/6, 3/6, 4/6, 5/6], '-o', label = 'True values')\n",
    "axes[1].set_ylim([0.0, 1.0])\n",
    "axes[1].set_ylabel(\"Estimated value\", fontsize=15)\n",
    "axes[1].set_xlim([-1, 5])\n",
    "axes[1].set_xlabel(\"state\", fontsize=15)\n",
    "axes[1].set_xticks([0, 1, 2, 3, 4, 5])\n",
    "axes[1].set_xticklabels(['A', 'B', 'C', 'D', 'E'])\n",
    "axes[1].set_title(\"Estimated value using TD(0)\", fontsize=15)\n",
    "axes[1].legend()\n",
    "\n",
    "plt.show()"
   ]
  },
  {
   "cell_type": "markdown",
   "metadata": {},
   "source": [
    "> 왼쪽의 plot :   \n",
    "> episode (0 → 1 → 10 → 100)에 따라 `MC`를 사용하여 각 state에서의 value function의 값을 확인한 결과 `True values`에 수렴되는 것을 보여주고 있다.\n",
    "\n",
    "> 오른쪽의 plot :  \n",
    "> episode (0 → 1 → 10 → 100)에 따라 `TD(0)`를 사용하여 각 state에서의 value function의 값을 확인한 결과 `True values`에 수렴되는 것을 보여주고 있다.\n",
    "\n",
    "> MC와 TD(0)의 비교 :  \n",
    "> episode에 따라 `MC`의 결과는 `TD(0)`와 달리 estimated된 value가 variance가 크다고 볼 수 있다. 그리고, estimated value를 update하는데 있어서 `MC`는 episode가 종료될때까지 기다려야하므로, 현실적으로 `TD(0)`가 `MC` 보다 활용성이 높다."
   ]
  }
 ],
 "metadata": {
  "hide_input": false,
  "kernelspec": {
   "display_name": "Python 3",
   "language": "python",
   "name": "python3"
  },
  "language_info": {
   "codemirror_mode": {
    "name": "ipython",
    "version": 3
   },
   "file_extension": ".py",
   "mimetype": "text/x-python",
   "name": "python",
   "nbconvert_exporter": "python",
   "pygments_lexer": "ipython3",
   "version": "3.7.1"
  },
  "toc": {
   "base_numbering": 1,
   "nav_menu": {},
   "number_sections": false,
   "sideBar": true,
   "skip_h1_title": false,
   "title_cell": "Table of Contents",
   "title_sidebar": "Contents",
   "toc_cell": false,
   "toc_position": {},
   "toc_section_display": true,
   "toc_window_display": true
  }
 },
 "nbformat": 4,
 "nbformat_minor": 2
}
