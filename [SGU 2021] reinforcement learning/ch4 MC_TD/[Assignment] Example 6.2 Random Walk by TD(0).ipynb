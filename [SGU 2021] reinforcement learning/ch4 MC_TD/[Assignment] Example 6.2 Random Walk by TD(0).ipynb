{
 "cells": [
  {
   "cell_type": "markdown",
   "metadata": {},
   "source": [
    "### Examples 6.2 Random Walk"
   ]
  },
  {
   "cell_type": "code",
   "execution_count": 141,
   "metadata": {
    "ExecuteTime": {
     "end_time": "2021-04-05T19:59:07.285743Z",
     "start_time": "2021-04-05T19:59:07.276242Z"
    }
   },
   "outputs": [],
   "source": [
    "import numpy as np\n",
    "import matplotlib.pyplot as plt"
   ]
  },
  {
   "cell_type": "markdown",
   "metadata": {},
   "source": [
    "### Random Walk Environment"
   ]
  },
  {
   "cell_type": "markdown",
   "metadata": {
    "ExecuteTime": {
     "end_time": "2021-04-05T20:05:16.432955Z",
     "start_time": "2021-04-05T20:05:16.404037Z"
    }
   },
   "source": [
    "<img src=\"https://i.stack.imgur.com/ts9va.png\" alt=\"drawing\" width=\"600\"/>"
   ]
  },
  {
   "cell_type": "markdown",
   "metadata": {},
   "source": [
    "### TD(0) prediction, for estimating $v_{\\pi}$\n",
    "\n",
    "<img src=\"https://miro.medium.com/max/3400/1*ZQOYa442n4FzLVv5233zzw.png\" alt=\"drawing\" width=\"600\"/>"
   ]
  },
  {
   "cell_type": "code",
   "execution_count": 144,
   "metadata": {
    "ExecuteTime": {
     "end_time": "2021-04-05T20:11:37.111092Z",
     "start_time": "2021-04-05T20:11:37.091845Z"
    },
    "scrolled": false
   },
   "outputs": [
    {
     "name": "stdout",
     "output_type": "stream",
     "text": [
      "[0.5  0.5  0.5  0.5  0.55]\n"
     ]
    }
   ],
   "source": [
    "class RandomWalk_TD_0:\n",
    "    def __init__(self, alpha = 0.1, values = np.ones(7) * 0.5):\n",
    "        self.nodes = [\"Left Terminal\", \"A\", \"B\", \"C\", \"D\", \"E\", \"Right Terminal\"]\n",
    "        self.state = 3         # Initial location (state) is \"C\"\n",
    "        self.node = self.nodes[self.state]\n",
    "        self.values = values   # values : current states value, will be updated\n",
    "        self.terminated = False  \n",
    "        self.alpha = alpha     # step size\n",
    "        \n",
    "    def take_action(self):\n",
    "        action = np.random.choice([\"left\", \"right\"])\n",
    "        \n",
    "        if not self.terminated:\n",
    "            if action == \"left\":\n",
    "                # print(\"Moving to '←' at {}\".format(self.nodes[self.state]))\n",
    "                new_state = self.state - 1\n",
    "            elif action == 'right':\n",
    "                # print(\"Moving to '→' at {}\".format(self.nodes[self.state]))\n",
    "                new_state = self.state + 1\n",
    "            \n",
    "            reward = self.get_reward(new_state)\n",
    "    \n",
    "            self.update_value_table(self.state, new_state)\n",
    "            \n",
    "            self.state = new_state\n",
    "            self.node = self.nodes[self.state]\n",
    "\n",
    "            if (self.node == \"Left Terminal\") or (self.node == \"Right Terminal\"):\n",
    "                # print(\"The random walk has terminated.\")\n",
    "                self.terminated = True\n",
    "        \n",
    "        else :\n",
    "            print(\"Aleady Terminated!\")\n",
    "\n",
    "    \n",
    "    def get_reward(self, new_state):\n",
    "        return 1.0 if self.nodes[new_state] == \"Right Terminal\" else 0.0\n",
    "\n",
    "    # TD(0)\n",
    "    # update current estimate for last state\n",
    "    def update_value_table(self, state, new_state):\n",
    "        discount_factor = 1\n",
    "        if self.nodes[new_state] in (\"Left Terminal\", \"Right Terminal\"):\n",
    "            TD_target = self.get_reward(new_state)\n",
    "        else:\n",
    "            TD_target = self.get_reward(new_state) + discount_factor * self.values[new_state]\n",
    "            \n",
    "        TD_error = TD_target - self.values[state]\n",
    "        self.values[state] += self.alpha * (TD_error)\n",
    "\n",
    "\n",
    "# test\n",
    "# Initialize estimates at all 0.5\n",
    "value_estimates = np.ones(7) * 0.5      \n",
    "\n",
    "N_episodes = 1\n",
    "\n",
    "for episode in range(N_episodes):\n",
    "    # Use value estimates from previous iteration\n",
    "    c = RandomWalk_TD_0(values = value_estimates)\n",
    "    while not c.terminated:\n",
    "        c.take_action()\n",
    "\n",
    "    # Update value estimates\n",
    "    value_estimates = c.values            \n",
    "\n",
    "print(value_estimates[1:-1])"
   ]
  },
  {
   "cell_type": "code",
   "execution_count": 145,
   "metadata": {
    "ExecuteTime": {
     "end_time": "2021-04-05T20:11:39.884277Z",
     "start_time": "2021-04-05T20:11:39.864433Z"
    },
    "scrolled": false
   },
   "outputs": [],
   "source": [
    "# Episode에 따른 value function 추정\n",
    "\n",
    "episode_lists = [0, 1, 10, 100]\n",
    "estimated_values = []\n",
    "for episode_list in episode_lists:\n",
    "    \n",
    "    # value function 초기화\n",
    "    value_estimates = np.ones(7) * 0.5\n",
    "    \n",
    "    N_episodes = episode_list\n",
    "\n",
    "    for episode in range(N_episodes):\n",
    "        # Use value estimates from previous iteration\n",
    "        c = RandomWalk_TD_0(values = value_estimates)\n",
    "        while not c.terminated:\n",
    "            c.take_action()\n",
    "\n",
    "        # Update value estimates\n",
    "        value_estimates = c.values\n",
    "    \n",
    "    estimated_values.append(value_estimates[1:-1])"
   ]
  },
  {
   "cell_type": "markdown",
   "metadata": {},
   "source": [
    "### Figure 1 : Episode에 따른 Estimated value "
   ]
  },
  {
   "cell_type": "code",
   "execution_count": 146,
   "metadata": {
    "ExecuteTime": {
     "end_time": "2021-04-05T20:11:42.766180Z",
     "start_time": "2021-04-05T20:11:42.660683Z"
    },
    "scrolled": true
   },
   "outputs": [
    {
     "data": {
      "image/png": "[encoded data removed]",
      "text/plain": [
       "<Figure size 432x288 with 1 Axes>"
      ]
     },
     "metadata": {
      "needs_background": "light"
     },
     "output_type": "display_data"
    }
   ],
   "source": [
    "for i, j in enumerate(episode_lists):\n",
    "    plt.plot(estimated_values[i], '-o', label = 'Episode : ' + str(episode_lists[i]))\n",
    "\n",
    "plt.plot([1/6, 2/6, 3/6, 4/6, 5/6], '-o', label = 'True values')\n",
    "\n",
    "plt.ylim([0.0, 1.0])\n",
    "plt.ylabel(\"Estimated value\", fontsize=15)\n",
    "plt.xlim([-1, 5])\n",
    "plt.xlabel(\"state\", fontsize=15)\n",
    "plt.xticks([0, 1, 2, 3, 4, 5], ['A', 'B', 'C', 'D', 'E'])\n",
    "plt.title(\"Estimated value using TD(0)\", fontsize=15)\n",
    "plt.legend()\n",
    "plt.show()"
   ]
  },
  {
   "cell_type": "markdown",
   "metadata": {},
   "source": [
    "> episode (0 → 1 → 10 → 100)에 따라 `TD(0)`를 사용하여 각 state에서의 value function의 값을 확인한 결과 `True values`에 수렴되는 것을 보여주고 있다."
   ]
  }
 ],
 "metadata": {
  "hide_input": false,
  "kernelspec": {
   "display_name": "Python 3",
   "language": "python",
   "name": "python3"
  },
  "language_info": {
   "codemirror_mode": {
    "name": "ipython",
    "version": 3
   },
   "file_extension": ".py",
   "mimetype": "text/x-python",
   "name": "python",
   "nbconvert_exporter": "python",
   "pygments_lexer": "ipython3",
   "version": "3.7.1"
  },
  "toc": {
   "base_numbering": 1,
   "nav_menu": {},
   "number_sections": false,
   "sideBar": true,
   "skip_h1_title": false,
   "title_cell": "Table of Contents",
   "title_sidebar": "Contents",
   "toc_cell": false,
   "toc_position": {},
   "toc_section_display": true,
   "toc_window_display": true
  }
 },
 "nbformat": 4,
 "nbformat_minor": 2
}
