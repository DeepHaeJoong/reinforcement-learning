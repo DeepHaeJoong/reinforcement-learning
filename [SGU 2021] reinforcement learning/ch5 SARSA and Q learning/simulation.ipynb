{
 "cells": [
  {
   "cell_type": "markdown",
   "metadata": {},
   "source": [
    "## Heat"
   ]
  },
  {
   "cell_type": "markdown",
   "metadata": {},
   "source": [
    "### 1. The coffee cooling problem\n",
    "\n",
    "> Suppose I stop on the way to work to pick up a cup of coffee, which\n",
    "I take with milk. Assuming that I want the coffee to be as hot as\n",
    "possible when I arrive at work, should I add the milk at the coffee\n",
    "shop, wait until I get to work, or add the milk at some point in\n",
    "between?\n",
    "\n",
    "To help answer this question, I made a trial run with the milk and coffee in\n",
    "separate containers and took some measurements\n",
    "\n",
    "- When served, the temperature of the coffee is `90℃`. The volume is `300 mL`.\n",
    "- The milk is at an initial temperature of `5℃`, and I take about `50 mL`.\n",
    "- The ambient temperature in my car is `22℃`.\n",
    "- The coffee is served in a well insulated cup. When I arrive at work after\n",
    "`30` minutes, the temperature of the coffee has fallen to `70℃`.\n",
    "- The milk container is not as well insulated. After `15` minutes, it warms\n",
    "up to `20℃`, nearly the ambient temperature."
   ]
  },
  {
   "cell_type": "markdown",
   "metadata": {},
   "source": [
    "### 2. Temperature and heat\n",
    "\n",
    "\n",
    "> Heat is related to temperature by the following equation\n",
    "\n",
    "$$ Q = C \\Delta T \\tag{1}\\label{1}$$\n",
    "\n",
    "- $Q$ : the amount of heat transferred to an object  \n",
    "\n",
    "- $C$ : the thermal mass of the object, which quantifies how much energy it takes to heat or cool it.\n",
    "\n",
    "    - $C = m \\times c_p$    \n",
    "        - $m$ : the mass of the object (e.g. the mass of 300mL of coffee is `300g`)\n",
    "        - $c_p$ : the specific heat capacity of the material (e.g. heat capacity of water is `4.2 J/g ℃`)\n",
    "    - (e.g. the thermal mass is 1260 J/℃) \n",
    "    \n",
    "$$ C = m \\times c_{coffee} = 300g \\times 4.2 J/g ℃ = 1,260 J/℃ \\tag{2}\\label{2}$$\n",
    "\n",
    "\n",
    "\n",
    "- $\\Delta T$ : the change in temperature (e.g. when a cup of coffee cools from `90℃` to `70℃`, the change in temperature,\n",
    "$\\Delta T$ is `20`, which means that `25,200` J of heat energy was transferred from\n",
    "the coffee to the surrounding environment)\n",
    "\n",
    "$$ Q = 1,260 J/℃ \\times 20℃ = 25,200 J \\tag{3}\\label{3}$$"
   ]
  },
  {
   "cell_type": "markdown",
   "metadata": {
    "ExecuteTime": {
     "end_time": "2021-04-12T06:01:49.496491Z",
     "start_time": "2021-04-12T06:01:49.488460Z"
    }
   },
   "source": [
    "### 3. Heat transfer\n",
    "\n",
    "- Conduction : 서로 다른 온도의 물체가 만나 운동에너지 전달\n",
    "- Convection : 유체의 흐름 \n",
    "- Radiation : 방사선\n",
    "---\n",
    "- Newton’s law of cooling : simple!"
   ]
  },
  {
   "cell_type": "markdown",
   "metadata": {},
   "source": [
    "### 4. Newton’s law of cooling\n",
    "\n",
    "$$ \\frac{dT}{dt} = -\\gamma(T-T_{env}) \\tag{4}\\label{4}$$\n",
    "\n",
    "- $T$ : the temperature of the object (a function of time $t$)\n",
    "- $T_{env}$ : the temperature of the environment\n",
    "- $\\gamma$ :  a constant that characterizes how quickly heat is transferred between the system and the environment.\n",
    " (경우에 따라서, 실험적으로 추정해야함)"
   ]
  },
  {
   "cell_type": "markdown",
   "metadata": {},
   "source": [
    "### 5. Implementation"
   ]
  },
  {
   "cell_type": "code",
   "execution_count": 10,
   "metadata": {
    "ExecuteTime": {
     "end_time": "2021-04-12T06:28:40.881854Z",
     "start_time": "2021-04-12T06:28:40.869854Z"
    },
    "scrolled": true
   },
   "outputs": [],
   "source": [
    "from modsim import *"
   ]
  },
  {
   "cell_type": "code",
   "execution_count": 12,
   "metadata": {
    "ExecuteTime": {
     "end_time": "2021-04-12T06:29:11.822169Z",
     "start_time": "2021-04-12T06:29:11.814160Z"
    }
   },
   "outputs": [],
   "source": [
    "# initial temperature\n",
    "init = State(T=90)"
   ]
  },
  {
   "cell_type": "code",
   "execution_count": 38,
   "metadata": {
    "ExecuteTime": {
     "end_time": "2021-04-12T06:41:23.774631Z",
     "start_time": "2021-04-12T06:41:23.765641Z"
    }
   },
   "outputs": [],
   "source": [
    "# And a System object to contain the parameters of the system:\n",
    "coffee = System(init=init,\n",
    "                volume=300,\n",
    "                r=0.01,\n",
    "                T_env=22,\n",
    "                t_0=0,\n",
    "                t_end=30,\n",
    "                dt=1)"
   ]
  },
  {
   "cell_type": "code",
   "execution_count": 46,
   "metadata": {
    "ExecuteTime": {
     "end_time": "2021-04-12T06:49:59.323148Z",
     "start_time": "2021-04-12T06:49:59.306067Z"
    }
   },
   "outputs": [],
   "source": [
    "def update_func(state, t, system):\n",
    "    r, T_env, dt = system.r, system.T_env, system.dt\n",
    "    print(\"r : {}\".format(r))\n",
    "    print(\"T_env : {}\".format(T_env))\n",
    "    print(\"dt : {}\".format(dt))\n",
    "    T = state.T\n",
    "    print(\"T : {}\".format(T))    \n",
    "    T += -r * (T - T_env) * dt\n",
    "    return State(T=T)"
   ]
  },
  {
   "cell_type": "code",
   "execution_count": 47,
   "metadata": {
    "ExecuteTime": {
     "end_time": "2021-04-12T06:50:00.248125Z",
     "start_time": "2021-04-12T06:50:00.239571Z"
    }
   },
   "outputs": [
    {
     "name": "stdout",
     "output_type": "stream",
     "text": [
      "r : 0.01\n",
      "T_env : 22\n",
      "dt : 1\n",
      "T : 90\n"
     ]
    },
    {
     "data": {
      "text/html": [
       "<div>\n",
       "<style scoped>\n",
       "    .dataframe tbody tr th:only-of-type {\n",
       "        vertical-align: middle;\n",
       "    }\n",
       "\n",
       "    .dataframe tbody tr th {\n",
       "        vertical-align: top;\n",
       "    }\n",
       "\n",
       "    .dataframe thead th {\n",
       "        text-align: right;\n",
       "    }\n",
       "</style>\n",
       "<table border=\"1\" class=\"dataframe\">\n",
       "  <thead>\n",
       "    <tr style=\"text-align: right;\">\n",
       "      <th></th>\n",
       "      <th>values</th>\n",
       "    </tr>\n",
       "  </thead>\n",
       "  <tbody>\n",
       "    <tr>\n",
       "      <th>T</th>\n",
       "      <td>89.32</td>\n",
       "    </tr>\n",
       "  </tbody>\n",
       "</table>\n",
       "</div>"
      ],
      "text/plain": [
       "T    89.32\n",
       "dtype: float64"
      ]
     },
     "execution_count": 47,
     "metadata": {},
     "output_type": "execute_result"
    }
   ],
   "source": [
    "update_func(init, 0, coffee)"
   ]
  },
  {
   "cell_type": "code",
   "execution_count": 25,
   "metadata": {
    "ExecuteTime": {
     "end_time": "2021-04-12T06:33:05.242286Z",
     "start_time": "2021-04-12T06:33:05.224315Z"
    }
   },
   "outputs": [],
   "source": [
    "def run_simulation(system, update_func):\n",
    "    init = system.init\n",
    "    t_0, t_end, dt = system.t_0, system.t_end, system.dt\n",
    "    frame = TimeFrame(columns=init.index)\n",
    "    frame.row[t_0] = init\n",
    "    ts = linrange(t_0, t_end, dt)\n",
    "    for t in ts:\n",
    "        frame.row[t+dt] = update_func(frame.row[t], t, system)\n",
    "    return frame"
   ]
  },
  {
   "cell_type": "code",
   "execution_count": 27,
   "metadata": {
    "ExecuteTime": {
     "end_time": "2021-04-12T06:33:06.985954Z",
     "start_time": "2021-04-12T06:33:06.926925Z"
    }
   },
   "outputs": [],
   "source": [
    "results = run_simulation(coffee, update_func)"
   ]
  },
  {
   "cell_type": "code",
   "execution_count": 29,
   "metadata": {
    "ExecuteTime": {
     "end_time": "2021-04-12T06:33:30.612209Z",
     "start_time": "2021-04-12T06:33:30.595238Z"
    }
   },
   "outputs": [
    {
     "data": {
      "text/html": [
       "<div>\n",
       "<style scoped>\n",
       "    .dataframe tbody tr th:only-of-type {\n",
       "        vertical-align: middle;\n",
       "    }\n",
       "\n",
       "    .dataframe tbody tr th {\n",
       "        vertical-align: top;\n",
       "    }\n",
       "\n",
       "    .dataframe thead th {\n",
       "        text-align: right;\n",
       "    }\n",
       "</style>\n",
       "<table border=\"1\" class=\"dataframe\">\n",
       "  <thead>\n",
       "    <tr style=\"text-align: right;\">\n",
       "      <th></th>\n",
       "      <th>T</th>\n",
       "    </tr>\n",
       "  </thead>\n",
       "  <tbody>\n",
       "    <tr>\n",
       "      <th>0</th>\n",
       "      <td>90</td>\n",
       "    </tr>\n",
       "    <tr>\n",
       "      <th>1</th>\n",
       "      <td>89.32</td>\n",
       "    </tr>\n",
       "    <tr>\n",
       "      <th>2</th>\n",
       "      <td>88.6468</td>\n",
       "    </tr>\n",
       "    <tr>\n",
       "      <th>3</th>\n",
       "      <td>87.9803</td>\n",
       "    </tr>\n",
       "    <tr>\n",
       "      <th>4</th>\n",
       "      <td>87.3205</td>\n",
       "    </tr>\n",
       "    <tr>\n",
       "      <th>5</th>\n",
       "      <td>86.6673</td>\n",
       "    </tr>\n",
       "    <tr>\n",
       "      <th>6</th>\n",
       "      <td>86.0207</td>\n",
       "    </tr>\n",
       "    <tr>\n",
       "      <th>7</th>\n",
       "      <td>85.3804</td>\n",
       "    </tr>\n",
       "    <tr>\n",
       "      <th>8</th>\n",
       "      <td>84.7466</td>\n",
       "    </tr>\n",
       "    <tr>\n",
       "      <th>9</th>\n",
       "      <td>84.1192</td>\n",
       "    </tr>\n",
       "    <tr>\n",
       "      <th>10</th>\n",
       "      <td>83.498</td>\n",
       "    </tr>\n",
       "    <tr>\n",
       "      <th>11</th>\n",
       "      <td>82.883</td>\n",
       "    </tr>\n",
       "    <tr>\n",
       "      <th>12</th>\n",
       "      <td>82.2742</td>\n",
       "    </tr>\n",
       "    <tr>\n",
       "      <th>13</th>\n",
       "      <td>81.6714</td>\n",
       "    </tr>\n",
       "    <tr>\n",
       "      <th>14</th>\n",
       "      <td>81.0747</td>\n",
       "    </tr>\n",
       "    <tr>\n",
       "      <th>15</th>\n",
       "      <td>80.484</td>\n",
       "    </tr>\n",
       "    <tr>\n",
       "      <th>16</th>\n",
       "      <td>79.8991</td>\n",
       "    </tr>\n",
       "    <tr>\n",
       "      <th>17</th>\n",
       "      <td>79.3201</td>\n",
       "    </tr>\n",
       "    <tr>\n",
       "      <th>18</th>\n",
       "      <td>78.7469</td>\n",
       "    </tr>\n",
       "    <tr>\n",
       "      <th>19</th>\n",
       "      <td>78.1795</td>\n",
       "    </tr>\n",
       "    <tr>\n",
       "      <th>20</th>\n",
       "      <td>77.6177</td>\n",
       "    </tr>\n",
       "    <tr>\n",
       "      <th>21</th>\n",
       "      <td>77.0615</td>\n",
       "    </tr>\n",
       "    <tr>\n",
       "      <th>22</th>\n",
       "      <td>76.5109</td>\n",
       "    </tr>\n",
       "    <tr>\n",
       "      <th>23</th>\n",
       "      <td>75.9658</td>\n",
       "    </tr>\n",
       "    <tr>\n",
       "      <th>24</th>\n",
       "      <td>75.4261</td>\n",
       "    </tr>\n",
       "    <tr>\n",
       "      <th>25</th>\n",
       "      <td>74.8919</td>\n",
       "    </tr>\n",
       "    <tr>\n",
       "      <th>26</th>\n",
       "      <td>74.3629</td>\n",
       "    </tr>\n",
       "    <tr>\n",
       "      <th>27</th>\n",
       "      <td>73.8393</td>\n",
       "    </tr>\n",
       "    <tr>\n",
       "      <th>28</th>\n",
       "      <td>73.3209</td>\n",
       "    </tr>\n",
       "    <tr>\n",
       "      <th>29</th>\n",
       "      <td>72.8077</td>\n",
       "    </tr>\n",
       "    <tr>\n",
       "      <th>30</th>\n",
       "      <td>72.2996</td>\n",
       "    </tr>\n",
       "  </tbody>\n",
       "</table>\n",
       "</div>"
      ],
      "text/plain": [
       "          T\n",
       "0        90\n",
       "1     89.32\n",
       "2   88.6468\n",
       "3   87.9803\n",
       "4   87.3205\n",
       "5   86.6673\n",
       "6   86.0207\n",
       "7   85.3804\n",
       "8   84.7466\n",
       "9   84.1192\n",
       "10   83.498\n",
       "11   82.883\n",
       "12  82.2742\n",
       "13  81.6714\n",
       "14  81.0747\n",
       "15   80.484\n",
       "16  79.8991\n",
       "17  79.3201\n",
       "18  78.7469\n",
       "19  78.1795\n",
       "20  77.6177\n",
       "21  77.0615\n",
       "22  76.5109\n",
       "23  75.9658\n",
       "24  75.4261\n",
       "25  74.8919\n",
       "26  74.3629\n",
       "27  73.8393\n",
       "28  73.3209\n",
       "29  72.8077\n",
       "30  72.2996"
      ]
     },
     "execution_count": 29,
     "metadata": {},
     "output_type": "execute_result"
    }
   ],
   "source": [
    "results"
   ]
  },
  {
   "cell_type": "code",
   "execution_count": 52,
   "metadata": {
    "ExecuteTime": {
     "end_time": "2021-04-12T07:06:48.980010Z",
     "start_time": "2021-04-12T07:06:48.967036Z"
    }
   },
   "outputs": [],
   "source": [
    "def make_system(T_init, r, volume, t_end):\n",
    "    init = State(T=T_init)\n",
    "    return System(init=init,\n",
    "                  r=r,\n",
    "                  volume=volume,\n",
    "                  temp=T_init,\n",
    "                  t_0=0,\n",
    "                  t_end=t_end,\n",
    "                  dt=1,\n",
    "                  T_env=22)"
   ]
  },
  {
   "cell_type": "code",
   "execution_count": 53,
   "metadata": {
    "ExecuteTime": {
     "end_time": "2021-04-12T07:06:51.216738Z",
     "start_time": "2021-04-12T07:06:51.147753Z"
    },
    "scrolled": false
   },
   "outputs": [
    {
     "name": "stdout",
     "output_type": "stream",
     "text": [
      "r : 0.01\n",
      "T_env : 22\n",
      "dt : 1\n",
      "T : 90\n",
      "r : 0.01\n",
      "T_env : 22\n",
      "dt : 1\n",
      "T : 89.32\n",
      "r : 0.01\n",
      "T_env : 22\n",
      "dt : 1\n",
      "T : 88.6468\n",
      "r : 0.01\n",
      "T_env : 22\n",
      "dt : 1\n",
      "T : 87.980332\n",
      "r : 0.01\n",
      "T_env : 22\n",
      "dt : 1\n",
      "T : 87.32052868000001\n",
      "r : 0.01\n",
      "T_env : 22\n",
      "dt : 1\n",
      "T : 86.66732339320001\n",
      "r : 0.01\n",
      "T_env : 22\n",
      "dt : 1\n",
      "T : 86.020650159268\n",
      "r : 0.01\n",
      "T_env : 22\n",
      "dt : 1\n",
      "T : 85.38044365767531\n",
      "r : 0.01\n",
      "T_env : 22\n",
      "dt : 1\n",
      "T : 84.74663922109856\n",
      "r : 0.01\n",
      "T_env : 22\n",
      "dt : 1\n",
      "T : 84.11917282888757\n",
      "r : 0.01\n",
      "T_env : 22\n",
      "dt : 1\n",
      "T : 83.4979811005987\n",
      "r : 0.01\n",
      "T_env : 22\n",
      "dt : 1\n",
      "T : 82.88300128959271\n",
      "r : 0.01\n",
      "T_env : 22\n",
      "dt : 1\n",
      "T : 82.27417127669679\n",
      "r : 0.01\n",
      "T_env : 22\n",
      "dt : 1\n",
      "T : 81.67142956392982\n",
      "r : 0.01\n",
      "T_env : 22\n",
      "dt : 1\n",
      "T : 81.07471526829052\n",
      "r : 0.01\n",
      "T_env : 22\n",
      "dt : 1\n",
      "T : 80.48396811560761\n",
      "r : 0.01\n",
      "T_env : 22\n",
      "dt : 1\n",
      "T : 79.89912843445154\n",
      "r : 0.01\n",
      "T_env : 22\n",
      "dt : 1\n",
      "T : 79.32013715010703\n",
      "r : 0.01\n",
      "T_env : 22\n",
      "dt : 1\n",
      "T : 78.74693577860596\n",
      "r : 0.01\n",
      "T_env : 22\n",
      "dt : 1\n",
      "T : 78.17946642081989\n",
      "r : 0.01\n",
      "T_env : 22\n",
      "dt : 1\n",
      "T : 77.6176717566117\n",
      "r : 0.01\n",
      "T_env : 22\n",
      "dt : 1\n",
      "T : 77.06149503904558\n",
      "r : 0.01\n",
      "T_env : 22\n",
      "dt : 1\n",
      "T : 76.51088008865513\n",
      "r : 0.01\n",
      "T_env : 22\n",
      "dt : 1\n",
      "T : 75.96577128776858\n",
      "r : 0.01\n",
      "T_env : 22\n",
      "dt : 1\n",
      "T : 75.42611357489089\n",
      "r : 0.01\n",
      "T_env : 22\n",
      "dt : 1\n",
      "T : 74.89185243914199\n",
      "r : 0.01\n",
      "T_env : 22\n",
      "dt : 1\n",
      "T : 74.36293391475057\n",
      "r : 0.01\n",
      "T_env : 22\n",
      "dt : 1\n",
      "T : 73.83930457560307\n",
      "r : 0.01\n",
      "T_env : 22\n",
      "dt : 1\n",
      "T : 73.32091152984704\n",
      "r : 0.01\n",
      "T_env : 22\n",
      "dt : 1\n",
      "T : 72.80770241454857\n"
     ]
    }
   ],
   "source": [
    "coffee = make_system(T_init=90, r=0.01, volume=300, t_end=30)\n",
    "results = run_simulation(coffee, update_func)"
   ]
  },
  {
   "cell_type": "markdown",
   "metadata": {},
   "source": [
    "### Reference\n",
    "\n",
    "- []\n",
    "- [Reinforcement Learning based Energy Optimization in Factories](https://towardsdatascience.com/reinforcement-learning-based-energy-optimization-dea8fb687cda)\n",
    "- [..]()"
   ]
  }
 ],
 "metadata": {
  "hide_input": false,
  "kernelspec": {
   "display_name": "Python 3",
   "language": "python",
   "name": "python3"
  },
  "language_info": {
   "codemirror_mode": {
    "name": "ipython",
    "version": 3
   },
   "file_extension": ".py",
   "mimetype": "text/x-python",
   "name": "python",
   "nbconvert_exporter": "python",
   "pygments_lexer": "ipython3",
   "version": "3.7.1"
  },
  "toc": {
   "base_numbering": 1,
   "nav_menu": {},
   "number_sections": false,
   "sideBar": true,
   "skip_h1_title": false,
   "title_cell": "Table of Contents",
   "title_sidebar": "Contents",
   "toc_cell": false,
   "toc_position": {
    "height": "calc(100% - 180px)",
    "left": "10px",
    "top": "150px",
    "width": "327.68px"
   },
   "toc_section_display": true,
   "toc_window_display": true
  }
 },
 "nbformat": 4,
 "nbformat_minor": 2
}
